{
 "cells": [
  {
   "cell_type": "code",
   "execution_count": 7,
   "id": "db71a239-0aaf-4a36-8c0d-14553a6dc2a8",
   "metadata": {},
   "outputs": [],
   "source": [
    "class Product:\n",
    "    def __init__(self, id, name, cost, colour, profit, discount):\n",
    "        self.id = id\n",
    "        self.name = name\n",
    "        self.cost = cost\n",
    "        self.colour = colour\n",
    "        self.profit = profit  \n",
    "        self.discount = discount\n",
    "    @property\n",
    "    def sales_price_calc(self):\n",
    "        return ((self.cost+self.profit)*self.discount)/(self.discount-1)\n",
    "\n",
    "    def get_details(self):\n",
    "       print(self.__dict__)\n",
    "\n",
    "    "
   ]
  },
  {
   "cell_type": "code",
   "execution_count": null,
   "id": "b5c63984-b4fa-455f-8bd7-f1658ca4895d",
   "metadata": {},
   "outputs": [],
   "source": []
  }
 ],
 "metadata": {
  "kernelspec": {
   "display_name": "Python 3 (ipykernel)",
   "language": "python",
   "name": "python3"
  },
  "language_info": {
   "codemirror_mode": {
    "name": "ipython",
    "version": 3
   },
   "file_extension": ".py",
   "mimetype": "text/x-python",
   "name": "python",
   "nbconvert_exporter": "python",
   "pygments_lexer": "ipython3",
   "version": "3.12.4"
  }
 },
 "nbformat": 4,
 "nbformat_minor": 5
}
