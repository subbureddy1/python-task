{
 "cells": [
  {
   "cell_type": "code",
   "execution_count": 1,
   "id": "775a8720-132e-4528-9e76-706e1a074436",
   "metadata": {},
   "outputs": [],
   "source": [
    "f = open('data.txt')"
   ]
  },
  {
   "cell_type": "code",
   "execution_count": 5,
   "id": "5a137f0c-1734-460a-bb96-8b04735fc974",
   "metadata": {},
   "outputs": [
    {
     "name": "stdout",
     "output_type": "stream",
     "text": [
      "['_CHUNK_SIZE', '__class__', '__del__', '__delattr__', '__dict__', '__dir__', '__doc__', '__enter__', '__eq__', '__exit__', '__format__', '__ge__', '__getattribute__', '__getstate__', '__gt__', '__hash__', '__init__', '__init_subclass__', '__iter__', '__le__', '__lt__', '__module__', '__ne__', '__new__', '__next__', '__reduce__', '__reduce_ex__', '__repr__', '__setattr__', '__sizeof__', '__str__', '__subclasshook__', '_checkClosed', '_checkReadable', '_checkSeekable', '_checkWritable', '_finalizing', 'buffer', 'close', 'closed', 'detach', 'encoding', 'errors', 'fileno', 'flush', 'isatty', 'line_buffering', 'mode', 'name', 'newlines', 'read', 'readable', 'readline', 'readlines', 'reconfigure', 'seek', 'seekable', 'tell', 'truncate', 'writable', 'write', 'write_through', 'writelines']\n"
     ]
    }
   ],
   "source": [
    "print(dir(f))"
   ]
  },
  {
   "cell_type": "code",
   "execution_count": 7,
   "id": "53e2295c-b456-49cb-902e-d275db324c8e",
   "metadata": {},
   "outputs": [],
   "source": [
    "data = f.read()"
   ]
  },
  {
   "cell_type": "code",
   "execution_count": 9,
   "id": "f17323ef-90ab-4f8b-bddb-f236916423ee",
   "metadata": {},
   "outputs": [
    {
     "name": "stdout",
     "output_type": "stream",
     "text": [
      "name,age,sal\n",
      "Akhil,21,123456\n",
      "Ram,23,123456\n"
     ]
    }
   ],
   "source": [
    "print(data)"
   ]
  },
  {
   "cell_type": "code",
   "execution_count": 15,
   "id": "cdf17259-416a-453d-a8ea-4471ce432d4e",
   "metadata": {},
   "outputs": [
    {
     "name": "stdout",
     "output_type": "stream",
     "text": [
      "name,age,sal\n",
      "12\n"
     ]
    }
   ],
   "source": [
    "f = open('data.txt')\n",
    "data = f.read(12)\n",
    "print(data)\n",
    "print(f.tell())"
   ]
  },
  {
   "cell_type": "code",
   "execution_count": 19,
   "id": "6091bc03-bfdc-4648-8005-020b40b8a87e",
   "metadata": {},
   "outputs": [
    {
     "name": "stdout",
     "output_type": "stream",
     "text": [
      "name,age,sal\n",
      "Ak\n",
      "16\n"
     ]
    }
   ],
   "source": [
    "f = open('data.txt')\n",
    "data = f.read(15)\n",
    "print(data)\n",
    "print(f.tell())"
   ]
  },
  {
   "cell_type": "code",
   "execution_count": 27,
   "id": "6c80e959-471e-4805-861f-21a7cde9f5e2",
   "metadata": {},
   "outputs": [
    {
     "name": "stdout",
     "output_type": "stream",
     "text": [
      "hil,21,123456\n",
      "R\n",
      "32\n"
     ]
    }
   ],
   "source": [
    "\n",
    "data1 = f.read(15)\n",
    "print(data1)\n",
    "print(f.tell())"
   ]
  },
  {
   "cell_type": "code",
   "execution_count": 30,
   "id": "c71243d3-0126-4cca-bb49-3dbffd59ba85",
   "metadata": {},
   "outputs": [
    {
     "name": "stdout",
     "output_type": "stream",
     "text": [
      "am,23,123456\n",
      "44\n"
     ]
    }
   ],
   "source": [
    "data2 = f.read(15)\n",
    "print(data2)\n",
    "print(f.tell())"
   ]
  },
  {
   "cell_type": "code",
   "execution_count": 32,
   "id": "30e4473a-6e9b-4ffd-814d-5d072268abcf",
   "metadata": {},
   "outputs": [
    {
     "name": "stdout",
     "output_type": "stream",
     "text": [
      "\n",
      "44\n"
     ]
    }
   ],
   "source": [
    "data3 = f.read(15)\n",
    "print(data3)\n",
    "print(f.tell())"
   ]
  },
  {
   "cell_type": "code",
   "execution_count": 3,
   "id": "33bb103c-40a6-48d8-a885-a0f00ebd241e",
   "metadata": {},
   "outputs": [
    {
     "name": "stdout",
     "output_type": "stream",
     "text": [
      "{'name': 'jay', 'age': 8, 'class': '2nd'} <class 'str'>\n",
      "{'name': 'jay', 'age': 8, 'class': '2nd'} <class 'dict'>\n"
     ]
    }
   ],
   "source": [
    "data = {\"name\":\"jay\",\"age\":8,\"class\":\"2nd\"}\n",
    "f = open(\"data.txt\",\"w\")\n",
    "f.write(str(data))\n",
    "f.close()\n",
    "import json\n",
    "f = open(\"data.txt\",\"r\")\n",
    "data1 = f.read()\n",
    "print(data1, type(data1))\n",
    "data1 = data1.replace(\"'\",'\"')\n",
    "data2 = json.loads(data1)\n",
    "print(data2, type(data2))\n",
    "f.close()"
   ]
  },
  {
   "cell_type": "code",
   "execution_count": 5,
   "id": "251c767d-04d4-4ccd-bda9-8e0993126b03",
   "metadata": {},
   "outputs": [],
   "source": [
    "import pickle\n",
    "data = {\"name\":\"jay\",\"age\":8,\"class\":\"2nd\"}\n",
    "f = open(\"data.txt\",\"wb\")\n",
    "pickle.dump(data,f)\n",
    "f.close()"
   ]
  },
  {
   "cell_type": "code",
   "execution_count": null,
   "id": "6a58c7ed-bdf0-45e6-9645-216fcdb81fad",
   "metadata": {},
   "outputs": [],
   "source": []
  }
 ],
 "metadata": {
  "kernelspec": {
   "display_name": "Python 3 (ipykernel)",
   "language": "python",
   "name": "python3"
  },
  "language_info": {
   "codemirror_mode": {
    "name": "ipython",
    "version": 3
   },
   "file_extension": ".py",
   "mimetype": "text/x-python",
   "name": "python",
   "nbconvert_exporter": "python",
   "pygments_lexer": "ipython3",
   "version": "3.12.4"
  }
 },
 "nbformat": 4,
 "nbformat_minor": 5
}
