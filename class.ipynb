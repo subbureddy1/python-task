{
 "cells": [
  {
   "cell_type": "code",
   "execution_count": 7,
   "id": "db71a239-0aaf-4a36-8c0d-14553a6dc2a8",
   "metadata": {},
   "outputs": [],
   "source": [
    "class Product:\n",
    "    def __init__(self, id, name, cost, colour, profit, discount):\n",
    "        self.id = id\n",
    "        self.name = name\n",
    "        self.cost = cost\n",
    "        self.colour = colour\n",
    "        self.profit = profit  \n",
    "        self.discount = discount\n",
    "    @property\n",
    "    def sales_price_calc(self):\n",
    "        return ((self.cost+self.profit)*self.discount)/(self.discount-1)\n",
    "\n",
    "    def get_details(self):\n",
    "       print(self.__dict__)\n",
    "\n",
    "    "
   ]
  },
  {
   "cell_type": "code",
   "execution_count": 11,
   "id": "b5c63984-b4fa-455f-8bd7-f1658ca4895d",
   "metadata": {},
   "outputs": [
    {
     "name": "stdout",
     "output_type": "stream",
     "text": [
      "3000\n",
      "20\n",
      "1000 2000\n"
     ]
    }
   ],
   "source": [
    "class number:\n",
    "    def __init__(self, value):\n",
    "        self.value=value\n",
    "    def __add__(self,other_self):\n",
    "        return 20\n",
    "    def add(self, other_self):\n",
    "        return self.value+other_self.value\n",
    "    def __str__(self):\n",
    "        return str(self.value)\n",
    "        \n",
    "a = number(1000)\n",
    "b = number(2000)\n",
    "print(a.add(b))\n",
    "print(a+b)\n",
    "print(a,b)\n"
   ]
  },
  {
   "cell_type": "code",
   "execution_count": null,
   "id": "12bd9bcd-285e-466f-835b-6a62e8ecf467",
   "metadata": {},
   "outputs": [],
   "source": []
  }
 ],
 "metadata": {
  "kernelspec": {
   "display_name": "Python 3 (ipykernel)",
   "language": "python",
   "name": "python3"
  },
  "language_info": {
   "codemirror_mode": {
    "name": "ipython",
    "version": 3
   },
   "file_extension": ".py",
   "mimetype": "text/x-python",
   "name": "python",
   "nbconvert_exporter": "python",
   "pygments_lexer": "ipython3",
   "version": "3.12.4"
  }
 },
 "nbformat": 4,
 "nbformat_minor": 5
}
