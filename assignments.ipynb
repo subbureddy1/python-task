{
 "cells": [
  {
   "cell_type": "markdown",
   "id": "1a361a51-ec41-4b99-9639-05a68d19b7b8",
   "metadata": {},
   "source": [
    "### 25. take a number from the user and check whether it is prime?"
   ]
  },
  {
   "cell_type": "code",
   "execution_count": 7,
   "id": "067041c0-48aa-4710-934d-c761e0ccc241",
   "metadata": {},
   "outputs": [
    {
     "name": "stdin",
     "output_type": "stream",
     "text": [
      "Enter a Number :  4\n"
     ]
    },
    {
     "name": "stdout",
     "output_type": "stream",
     "text": [
      "4 is not a Prime Number\n"
     ]
    }
   ],
   "source": [
    "\n",
    "check_number = int(input(\"Enter a Number : \"))\n",
    "count = 0\n",
    "for i in range(2, check_number+1):\n",
    "    if check_number % i == 0 :\n",
    "        count += 1\n",
    "        \n",
    "if count == 1:\n",
    "    print(check_number, \"is a Prime Number\")\n",
    "else:\n",
    "    print(check_number, \"is not a Prime Number\")"
   ]
  },
  {
   "cell_type": "markdown",
   "id": "2153a1f9-f0d4-4a81-ae38-cf965eda456e",
   "metadata": {},
   "source": [
    "### 25. take a number from the user and check whether it is prime?"
   ]
  },
  {
   "cell_type": "code",
   "execution_count": 9,
   "id": "af3bbaad-dd73-462a-89fc-acc5b7503eb6",
   "metadata": {},
   "outputs": [
    {
     "name": "stdin",
     "output_type": "stream",
     "text": [
      "Enter a Number:  12\n"
     ]
    },
    {
     "name": "stdout",
     "output_type": "stream",
     "text": [
      "12 is not a Prime Number\n"
     ]
    }
   ],
   "source": [
    "\n",
    "def is_prime_number(check_number):\n",
    "    count = 0\n",
    "    for i in range(2, check_number + 1):\n",
    "        if check_number % i == 0:\n",
    "            count += 1\n",
    "    if count == 1:\n",
    "        return True \n",
    "    else:\n",
    "        return False \n",
    "check_number = int(input(\"Enter a Number: \"))\n",
    "\n",
    "if is_prime_number(check_number):\n",
    "    print(check_number, \"is a Prime Number\")\n",
    "else:\n",
    "    print(check_number, \"is not a Prime Number\")\n"
   ]
  },
  {
   "cell_type": "markdown",
   "id": "5296b5c3-0312-4af1-92db-3cc84c5148aa",
   "metadata": {},
   "source": [
    "### 26. take a string from the user and check contains only digits or not?"
   ]
  },
  {
   "cell_type": "code",
   "execution_count": 1,
   "id": "266565d9-b729-42e3-ac49-a797c12756d6",
   "metadata": {},
   "outputs": [
    {
     "name": "stdin",
     "output_type": "stream",
     "text": [
      "Enter a word with digits :  12345\n"
     ]
    },
    {
     "name": "stdout",
     "output_type": "stream",
     "text": [
      "contains only digits\n"
     ]
    }
   ],
   "source": [
    "\n",
    "user_input = input(\"Enter a word with digits : \")\n",
    "count = 0\n",
    "for i in user_input:\n",
    "    if not(i >= \"0\" and i <= \"9\"):\n",
    "        print(\"contains other\")\n",
    "        break\n",
    "    else:\n",
    "        count += 1\n",
    "if count == len(user_input):\n",
    "    print(\"contains only digits\")\n",
    "    "
   ]
  },
  {
   "cell_type": "markdown",
   "id": "0e879087-553a-4401-9d89-779b07ee68a0",
   "metadata": {},
   "source": [
    "### 26. take a string from the user and check contains only digits or not?"
   ]
  },
  {
   "cell_type": "code",
   "execution_count": 3,
   "id": "0cd1bf45-1a09-4ba1-bd32-659b112c8bd6",
   "metadata": {},
   "outputs": [
    {
     "name": "stdin",
     "output_type": "stream",
     "text": [
      "Enter a string:  5452kuhgfvgvbhj\n"
     ]
    },
    {
     "name": "stdout",
     "output_type": "stream",
     "text": [
      "The string contains non-digit characters.\n"
     ]
    }
   ],
   "source": [
    "\n",
    "def digits(user_input):\n",
    "    return user_input.isdigit()\n",
    "\n",
    "user_input = input(\"Enter a string: \")\n",
    "if digits(user_input):\n",
    "    print(\"The string contains only digits.\")\n",
    "else:\n",
    "    print(\"The string contains non-digit characters.\")\n"
   ]
  },
  {
   "cell_type": "markdown",
   "id": "e13ac555-428e-463a-8121-1834cdd813ac",
   "metadata": {},
   "source": [
    "### 27. take a string from the user and check contains only  alphabets or not?"
   ]
  },
  {
   "cell_type": "code",
   "execution_count": 6,
   "id": "d58f9ab3-2a57-49a4-91b9-05db9dd96122",
   "metadata": {},
   "outputs": [
    {
     "name": "stdin",
     "output_type": "stream",
     "text": [
      "Enter a word with alphabets :  JGJHGJGJG\n"
     ]
    },
    {
     "name": "stdout",
     "output_type": "stream",
     "text": [
      "contains only alphabets\n"
     ]
    }
   ],
   "source": [
    "\n",
    "user_input = input(\"Enter a word with alphabets : \")\n",
    "count = 0\n",
    "for i in user_input:\n",
    "    if not((i >= \"a\" and i <= \"z\") or (i >= \"A\" and i <= \"Z\")) :\n",
    "        print(\"contains others\")\n",
    "        break\n",
    "    else:\n",
    "        count += 1\n",
    "if count == len(user_input):\n",
    "    print(\"contains only alphabets\")"
   ]
  },
  {
   "cell_type": "markdown",
   "id": "86a35a22-b7ba-4b5d-a132-109a0be4e032",
   "metadata": {},
   "source": [
    "### 27. take a string from the user and check contains only  alphabets or not?"
   ]
  },
  {
   "cell_type": "code",
   "execution_count": 5,
   "id": "d0257c62-d4fb-4947-b1c5-166f1bab8a5a",
   "metadata": {},
   "outputs": [
    {
     "name": "stdin",
     "output_type": "stream",
     "text": [
      "Enter a string:  12fhj#\n"
     ]
    },
    {
     "name": "stdout",
     "output_type": "stream",
     "text": [
      "The string contains non-alphabet characters.\n"
     ]
    }
   ],
   "source": [
    "\n",
    "def contains_only_alphabets(user_input):\n",
    "    return user_input.isalpha()\n",
    "\n",
    "user_input = input(\"Enter a string: \")\n",
    "if contains_only_alphabets(user_input):\n",
    "    print(\"The string contains only alphabets.\")\n",
    "else:\n",
    "    print(\"The string contains non-alphabet characters.\")\n"
   ]
  },
  {
   "cell_type": "markdown",
   "id": "ab12b977-9d21-4505-8b90-a0485383fd84",
   "metadata": {},
   "source": [
    "### 28. take a string from the user and check contains only  special chars or not?"
   ]
  },
  {
   "cell_type": "code",
   "execution_count": 8,
   "id": "6af8b46e-3bcf-4372-bea7-6873dbaf9487",
   "metadata": {},
   "outputs": [
    {
     "name": "stdin",
     "output_type": "stream",
     "text": [
      "Enter a word with Specail chars :  @\n"
     ]
    },
    {
     "name": "stdout",
     "output_type": "stream",
     "text": [
      "contains others\n"
     ]
    }
   ],
   "source": [
    "\n",
    "user_input = input(\"Enter a word with Specail chars : \")\n",
    "count = 0\n",
    "for i in user_input:\n",
    "    if not( (i >= \"a\" and i <= \"z\") or (i >= \"A\" and i <= \"Z\") or (i >= \"0\" and i <= \"9\") ) :\n",
    "        print(\"contains others\")\n",
    "        break\n",
    "    else:\n",
    "        count += 1\n",
    "if count == len(user_input):\n",
    "    print(\"contains only Specail chars\")"
   ]
  },
  {
   "cell_type": "markdown",
   "id": "44957ecd-24ac-4962-a92a-0907df67e6d8",
   "metadata": {},
   "source": [
    "### 29.take a string from the user and check contains only  capital letters or not?"
   ]
  },
  {
   "cell_type": "code",
   "execution_count": 2,
   "id": "9157e78b-3599-45d4-938c-354bfa3d8fc5",
   "metadata": {},
   "outputs": [
    {
     "name": "stdin",
     "output_type": "stream",
     "text": [
      "Enter a word with alphabets :  dfhgfdjfAKJJhj\n"
     ]
    },
    {
     "name": "stdout",
     "output_type": "stream",
     "text": [
      "contains others\n"
     ]
    }
   ],
   "source": [
    "\n",
    "user_input = input(\"Enter a word with alphabets : \")\n",
    "count = 0\n",
    "for i in user_input:\n",
    "    if not((i >= \"A\" and i <= \"Z\")) :\n",
    "        print(\"contains others\")\n",
    "        \n",
    "        break\n",
    "    else:\n",
    "        count += 1\n",
    "if count == len(user_input):\n",
    "    print(\"contains only Capital Letters\")"
   ]
  },
  {
   "cell_type": "markdown",
   "id": "3a70c0b5-d3d4-4654-b2f1-04f69ba3170a",
   "metadata": {},
   "source": [
    "### 30.take a string from the user and check contains only  small letters or not?"
   ]
  },
  {
   "cell_type": "code",
   "execution_count": 4,
   "id": "753270cd-4caa-4e92-83c0-73837c0b7401",
   "metadata": {},
   "outputs": [
    {
     "name": "stdin",
     "output_type": "stream",
     "text": [
      "Enter a word with alphabets :  HGFGFhdfhfd\n"
     ]
    },
    {
     "name": "stdout",
     "output_type": "stream",
     "text": [
      "contains others\n"
     ]
    }
   ],
   "source": [
    "\n",
    "user_input = input(\"Enter a word with alphabets : \")\n",
    "count = 0\n",
    "for i in user_input:\n",
    "    if not((i >= \"a\" and i <= \"z\")) :\n",
    "        print(\"contains others\")\n",
    "        break\n",
    "    else:\n",
    "        count += 1\n",
    "if count == len(user_input):\n",
    "    print(\"contains only small letters\")"
   ]
  },
  {
   "cell_type": "markdown",
   "id": "72533eae-09e6-4964-9ecb-c6ff7e292249",
   "metadata": {},
   "source": [
    "### 31. WAP to replace last n occurrence of give string.\n",
    " For example:”apple,orange,apple,grape,orange,apple,apple,orange”\n",
    " source: “apple”\n",
    " last occurrences: 2\n",
    " replace with: APPLE\n",
    " output:”apple,orange,apple,grape,orange,APPLE,APPLE,orange”"
   ]
  },
  {
   "cell_type": "code",
   "execution_count": 27,
   "id": "72520e79-060c-4782-bfd8-3a55ae6a7be5",
   "metadata": {},
   "outputs": [
    {
     "name": "stdout",
     "output_type": "stream",
     "text": [
      "apple,orange,apple,grape,orange,apple,apple,orange\n",
      "apple,orange,apple,grape,orange,APPLE,APPLE,orange\n"
     ]
    }
   ],
   "source": [
    "\n",
    "a = \"apple,orange,apple,grape,orange,apple,apple,orange\"\n",
    "print(a)\n",
    "list_a = a.split(',')\n",
    "list_a = list_a[::-1]\n",
    "source = \"apple\"\n",
    "n = 2\n",
    "count = 0\n",
    "for i in range(0, len(list_a)):\n",
    "    if list_a[i] == source :\n",
    "        list_a[i] = \"APPLE\"\n",
    "        count += 1\n",
    "        if count == n:\n",
    "            break\n",
    "print(\",\".join(list_a[::-1]))"
   ]
  },
  {
   "cell_type": "markdown",
   "id": "1cbbc405-e244-4915-84e5-2ea5b8931654",
   "metadata": {},
   "source": [
    "### 32. WAP to check given string contains numbers or not. it should consider float numbers also."
   ]
  },
  {
   "cell_type": "code",
   "execution_count": 42,
   "id": "583fb5b2-fe5a-4a05-b848-28861b8e0b5c",
   "metadata": {},
   "outputs": [
    {
     "name": "stdin",
     "output_type": "stream",
     "text": [
      "Enter a string it contains numbers and float values :  hello\n"
     ]
    },
    {
     "name": "stdout",
     "output_type": "stream",
     "text": [
      "not contains numbers \n"
     ]
    }
   ],
   "source": [
    "\n",
    "user_input = input(\"Enter a string it contains numbers and float values : \" )\n",
    "for i in user_input:\n",
    "    if (i >= \"0\" and i <= \"9\"):\n",
    "        print(\"contains numbers \")\n",
    "        break\n",
    "else:\n",
    "    print(\"not contains numbers \")"
   ]
  },
  {
   "cell_type": "markdown",
   "id": "5f671099-1bf5-4051-a17c-982e4e610335",
   "metadata": {},
   "source": [
    "### 33. Convert the total string in to lower case. Without using lower() function."
   ]
  },
  {
   "cell_type": "code",
   "execution_count": 45,
   "id": "101ad233-7ffa-499e-8b2f-2970dda0bbb2",
   "metadata": {},
   "outputs": [
    {
     "name": "stdin",
     "output_type": "stream",
     "text": [
      "Enter a word with alphabets :  ABCabc\n"
     ]
    },
    {
     "name": "stdout",
     "output_type": "stream",
     "text": [
      "abcabc\n"
     ]
    }
   ],
   "source": [
    "\n",
    "user_input = input(\"Enter a word with alphabets : \")\n",
    "user_input = list(user_input)\n",
    "for i in range(0, len(user_input)):\n",
    "    if ((user_input[i] >= \"A\" and user_input[i] <= \"Z\")) :\n",
    "        user_input[i] = chr(ord(user_input[i]) + 32)\n",
    "\n",
    "print(\"\".join(user_input))"
   ]
  },
  {
   "cell_type": "markdown",
   "id": "2995038b-4a7b-4cae-a262-6015901ba595",
   "metadata": {},
   "source": [
    "### 34. Convert the total string in to upper case. Without using upper() function."
   ]
  },
  {
   "cell_type": "code",
   "execution_count": 44,
   "id": "019286dd-5785-4edc-b627-5988d04bfc87",
   "metadata": {},
   "outputs": [
    {
     "name": "stdin",
     "output_type": "stream",
     "text": [
      "Enter a word with alphabets :  ABCabc\n"
     ]
    },
    {
     "name": "stdout",
     "output_type": "stream",
     "text": [
      "ABCABC\n"
     ]
    }
   ],
   "source": [
    "\n",
    "user_input = input(\"Enter a word with alphabets : \")\n",
    "user_input = list(user_input)\n",
    "for i in range(0, len((user_input))):\n",
    "    if ((user_input[i] >= \"a\" and user_input[i] <= \"z\")) :\n",
    "        user_input[i] = chr(ord(user_input[i]) - 32)\n",
    "\n",
    "print(\"\".join(user_input))"
   ]
  },
  {
   "cell_type": "markdown",
   "id": "4b9d3055-e5ae-4593-8941-f84252dd8553",
   "metadata": {},
   "source": [
    "### 35. Show the below menu to the user until and until user select quit and display corresponding os message\n",
    "Menu:\n",
    "1. windows\n",
    "2. Linux\n",
    "3. Mac\n",
    "4. quit\n",
    "a = \"Menu: \\n1. windows \\n2. Linux \\n3. Mac \\n4. quit\"\n",
    "print(a)'''"
   ]
  },
  {
   "cell_type": "code",
   "execution_count": 34,
   "id": "d941684b-9df9-40a3-a0cd-3014a5f7506d",
   "metadata": {},
   "outputs": [
    {
     "name": "stdout",
     "output_type": "stream",
     "text": [
      "Menu: \n",
      "1. windows \n",
      "2. Linux \n",
      "3. Mac \n",
      "4. quit\n"
     ]
    },
    {
     "name": "stdin",
     "output_type": "stream",
     "text": [
      "Select a number from above options :  5\n"
     ]
    },
    {
     "name": "stdout",
     "output_type": "stream",
     "text": [
      "===>  Select from given options please  <===\n",
      "Menu: \n",
      "1. windows \n",
      "2. Linux \n",
      "3. Mac \n",
      "4. quit\n"
     ]
    },
    {
     "name": "stdin",
     "output_type": "stream",
     "text": [
      "Select a number from above options :  4\n"
     ]
    },
    {
     "name": "stdout",
     "output_type": "stream",
     "text": [
      "  *** Thank You!  ***  \n"
     ]
    }
   ],
   "source": [
    "\n",
    "condition = True\n",
    "while condition:\n",
    "    a = \"Menu: \\n1. windows \\n2. Linux \\n3. Mac \\n4. quit\"\n",
    "    print(a)\n",
    "    user_input = input(\"Select a number from above options : \")\n",
    "    if \"1\" == user_input:\n",
    "        print(\"  ***  You selected Windows  ***  \")\n",
    "        condition = True\n",
    "    elif \"2\" == user_input:\n",
    "        print(\" ***  You selected Linux  ***  \")\n",
    "        condition = True\n",
    "    elif \"3\" == user_input:\n",
    "        print(\"  *** You selected Mac  ***  \")\n",
    "        condition = True\n",
    "    elif \"4\" == user_input:\n",
    "        print(\"  *** Thank You!  ***  \")\n",
    "        condition = False\n",
    "    else:\n",
    "        print(\"===>  Select from given options please  <===\")\n",
    "        condition = True\n",
    "        \n"
   ]
  },
  {
   "cell_type": "markdown",
   "id": "c8005141-db0b-4fcf-951d-d34fd95e0d6a",
   "metadata": {},
   "source": [
    "### 36. take a string from the user and check contains at least one digit or not?"
   ]
  },
  {
   "cell_type": "code",
   "execution_count": 3,
   "id": "61ada60a-ef5f-471c-96b6-9a7773d17ce1",
   "metadata": {},
   "outputs": [
    {
     "name": "stdin",
     "output_type": "stream",
     "text": [
      "Enter a string it contains numbers :  hello\n"
     ]
    },
    {
     "name": "stdout",
     "output_type": "stream",
     "text": [
      "not contains numbers \n"
     ]
    }
   ],
   "source": [
    "\n",
    "user_input = input(\"Enter a string it contains numbers : \" )\n",
    "for i in user_input:\n",
    "    if (i >= \"0\" and i <= \"9\"):\n",
    "        print(\"contains numbers \")\n",
    "        break\n",
    "else:\n",
    "    print(\"not contains numbers \")"
   ]
  },
  {
   "cell_type": "markdown",
   "id": "141a065e-fb9d-4787-a166-5b1c78e01b30",
   "metadata": {},
   "source": [
    "### 37. take a string from the user and check contains at least one alphabets or not?"
   ]
  },
  {
   "cell_type": "code",
   "execution_count": 6,
   "id": "cd212827-507e-4426-8972-b2627b5dcbe0",
   "metadata": {},
   "outputs": [
    {
     "name": "stdin",
     "output_type": "stream",
     "text": [
      "Enter a string it contains alphabets :  1254A\n"
     ]
    },
    {
     "name": "stdout",
     "output_type": "stream",
     "text": [
      "Contains Alphabets \n"
     ]
    }
   ],
   "source": [
    "\n",
    "user_input = input(\"Enter a string it contains alphabets : \" )\n",
    "for i in user_input:\n",
    "    if (i >= \"A\" and i <= \"Z\") or (i >= \"a\" and i <= \"z\"):\n",
    "        print(\"Contains Alphabets \")\n",
    "        break\n",
    "else:\n",
    "    print(\"Not contains Alphabets \")"
   ]
  },
  {
   "cell_type": "markdown",
   "id": "14123a68-6920-4feb-a327-826e1f8c1534",
   "metadata": {},
   "source": [
    "### 38. take a string from the user and check contains at least one chars or not?"
   ]
  },
  {
   "cell_type": "code",
   "execution_count": 9,
   "id": "d127499a-14b0-43b9-90e6-e4b841e2cba5",
   "metadata": {},
   "outputs": [
    {
     "name": "stdin",
     "output_type": "stream",
     "text": [
      "Enter a string it contains Chars :  dsggjsdgs$\n"
     ]
    },
    {
     "name": "stdout",
     "output_type": "stream",
     "text": [
      "Contains Chars\n"
     ]
    }
   ],
   "source": [
    "\n",
    "user_input = input(\"Enter a string it contains Chars : \" )\n",
    "for i in user_input:\n",
    "    if not ((i >= \"A\" and i <= \"Z\") or (i >= \"a\" and i <= \"z\") or (i >= \"0\" and i <= \"9\")):\n",
    "        print(\"Contains Chars\")\n",
    "        break\n",
    "else:\n",
    "    print(\"Not contains chars \")"
   ]
  },
  {
   "cell_type": "markdown",
   "id": "0fb16440-8ee7-4e8f-b46a-a643308c0269",
   "metadata": {},
   "source": [
    "### 39. take a string from the user and check contains at least one capital letter or not?"
   ]
  },
  {
   "cell_type": "code",
   "execution_count": 12,
   "id": "73334d2a-7d8d-4f2a-b4e2-90135331d9dd",
   "metadata": {},
   "outputs": [
    {
     "name": "stdin",
     "output_type": "stream",
     "text": [
      "Enter a string it contains alphabets :  hgfadsG\n"
     ]
    },
    {
     "name": "stdout",
     "output_type": "stream",
     "text": [
      "Contains capital letters \n"
     ]
    }
   ],
   "source": [
    "\n",
    "user_input = input(\"Enter a string it contains alphabets : \" )\n",
    "for i in user_input:\n",
    "    if (i >= \"A\" and i <= \"Z\"):\n",
    "        print(\"Contains capital letters \")\n",
    "        break\n",
    "else:\n",
    "    print(\"Not contains capital letters \")"
   ]
  },
  {
   "cell_type": "markdown",
   "id": "48a949bb-62af-449d-96bb-a675bb0cf37a",
   "metadata": {},
   "source": [
    "### 40. take a string from the user and check contains at least one small letter or not?"
   ]
  },
  {
   "cell_type": "code",
   "execution_count": 16,
   "id": "31045320-7806-4de8-b7a8-213fa761aa8e",
   "metadata": {},
   "outputs": [
    {
     "name": "stdin",
     "output_type": "stream",
     "text": [
      "Enter a string it contains alphabets :  FHGCJHC\n"
     ]
    },
    {
     "name": "stdout",
     "output_type": "stream",
     "text": [
      "Not contains small letters \n"
     ]
    }
   ],
   "source": [
    "\n",
    "user_input = input(\"Enter a string it contains alphabets : \" )\n",
    "for i in user_input:\n",
    "    if (i >= \"a\" and i <= \"z\"):\n",
    "        print(\"Contains small letters \")\n",
    "        break\n",
    "else:\n",
    "    print(\"Not contains small letters \")"
   ]
  },
  {
   "cell_type": "markdown",
   "id": "2d67401d-58b9-4ef2-8b10-5405be124816",
   "metadata": {},
   "source": [
    "### 41. Print the first 100 odd numbers"
   ]
  },
  {
   "cell_type": "code",
   "execution_count": 35,
   "id": "fc437342-a15a-4dad-8a80-ebc1efa1de71",
   "metadata": {},
   "outputs": [
    {
     "name": "stdout",
     "output_type": "stream",
     "text": [
      "1,3,5,7,9,11,13,15,17,19,21,23,25,27,29,31,33,35,37,39,41,43,45,47,49,51,53,55,57,59,61,63,65,67,69,71,73,75,77,79,81,83,85,87,89,91,93,95,97,99,101,103,105,107,109,111,113,115,117,119,121,123,125,127,129,131,133,135,137,139,141,143,145,147,149,151,153,155,157,159,161,163,165,167,169,171,173,175,177,179,181,183,185,187,189,191,193,195,197,199,"
     ]
    }
   ],
   "source": [
    "\n",
    "for i in range(1, 201):\n",
    "    if i % 2 != 0:\n",
    "        print(i, end=\",\")\n",
    "        \n",
    "    "
   ]
  },
  {
   "cell_type": "markdown",
   "id": "4083d669-a6bd-4886-a354-15bb5e706fdb",
   "metadata": {},
   "source": [
    "### 42. Determine the factors of a number entered  by the user"
   ]
  },
  {
   "cell_type": "code",
   "execution_count": 21,
   "id": "8e1865ac-b4c8-4296-89f1-003318a32ab3",
   "metadata": {},
   "outputs": [
    {
     "name": "stdin",
     "output_type": "stream",
     "text": [
      "enter a number :  50\n"
     ]
    },
    {
     "name": "stdout",
     "output_type": "stream",
     "text": [
      "1 2 5 10 25 50 "
     ]
    }
   ],
   "source": [
    "\n",
    "user_input = input(\"enter a number : \")\n",
    "user_input = int(user_input)\n",
    "\n",
    "for i in range(1, user_input+1):\n",
    "    if user_input % i == 0:\n",
    "        print(i, end= \" \")\n"
   ]
  },
  {
   "cell_type": "markdown",
   "id": "e4433e9a-6017-4c2a-9569-e3fc1c9d7c33",
   "metadata": {},
   "source": [
    "### 43. Play a number guessing game (User enters a guess, you print YES or Higher or Lower).\n",
    " This should continue until and until user gives a correct number or want to quit in the middle.\n",
    " Get a hidden number by using random.randint(1,100)\n"
   ]
  },
  {
   "cell_type": "code",
   "execution_count": 29,
   "id": "b06969bf-e116-417f-81a9-d66f46da2ef0",
   "metadata": {},
   "outputs": [
    {
     "name": "stdout",
     "output_type": "stream",
     "text": [
      "86\n"
     ]
    },
    {
     "name": "stdin",
     "output_type": "stream",
     "text": [
      "enter a number for guess :  90\n"
     ]
    },
    {
     "name": "stdout",
     "output_type": "stream",
     "text": [
      "Higher\n"
     ]
    },
    {
     "name": "stdin",
     "output_type": "stream",
     "text": [
      "enter a number for guess :  10\n"
     ]
    },
    {
     "name": "stdout",
     "output_type": "stream",
     "text": [
      "Lower\n"
     ]
    },
    {
     "name": "stdin",
     "output_type": "stream",
     "text": [
      "enter a number for guess :  50\n"
     ]
    },
    {
     "name": "stdout",
     "output_type": "stream",
     "text": [
      "Lower\n"
     ]
    },
    {
     "name": "stdin",
     "output_type": "stream",
     "text": [
      "enter a number for guess :  85\n"
     ]
    },
    {
     "name": "stdout",
     "output_type": "stream",
     "text": [
      "Lower\n"
     ]
    },
    {
     "name": "stdin",
     "output_type": "stream",
     "text": [
      "enter a number for guess :  88\n"
     ]
    },
    {
     "name": "stdout",
     "output_type": "stream",
     "text": [
      "Higher\n"
     ]
    },
    {
     "name": "stdin",
     "output_type": "stream",
     "text": [
      "enter a number for guess :  86\n"
     ]
    },
    {
     "name": "stdout",
     "output_type": "stream",
     "text": [
      "YES\n"
     ]
    }
   ],
   "source": [
    "\n",
    "number = random.randint(1, 100)\n",
    "# print(number)\n",
    "condition = True\n",
    "while condition:\n",
    "    user_input = input(\"enter a number for guess : \")\n",
    "    user_input = int(user_input)\n",
    "    if number == user_input:\n",
    "        print(\"YES\")\n",
    "        condition = False\n",
    "    elif number > user_input:\n",
    "        print(\"Lower\")\n",
    "        condition = True\n",
    "    else:\n",
    "        print(\"Higher\")\n",
    "        condition = True"
   ]
  },
  {
   "cell_type": "markdown",
   "id": "3621e24f-18ee-4797-b27b-7b5345ea55db",
   "metadata": {},
   "source": [
    "### 44. Take two numbers from the user a,b check whether a is divisible by b or not?"
   ]
  },
  {
   "cell_type": "code",
   "execution_count": 56,
   "id": "21efc4a2-d02d-402d-aae8-578aeb8cdaa5",
   "metadata": {},
   "outputs": [
    {
     "name": "stdin",
     "output_type": "stream",
     "text": [
      "enter a  number : 13\n",
      "enter a number :  2\n"
     ]
    },
    {
     "name": "stdout",
     "output_type": "stream",
     "text": [
      "0\n",
      " a is divisible by b \n"
     ]
    }
   ],
   "source": [
    "\n",
    "a = input(\"enter a  number :\" )\n",
    "a = int(a)\n",
    "b = input(\"enter a number : \")\n",
    "b = int(a)\n",
    "print(a % b)\n",
    "if a % b == 0:\n",
    "    print(\" a is divisible by b \")\n",
    "else:\n",
    "    print(\" a is not divisible by b \")"
   ]
  },
  {
   "cell_type": "markdown",
   "id": "b8ca699b-8f55-4c48-9360-b8eeb352d4ee",
   "metadata": {},
   "source": [
    "### 45. Find the sum of all the multiples of 3 or 5 below 1000"
   ]
  },
  {
   "cell_type": "code",
   "execution_count": 54,
   "id": "89cb9fca-7848-482f-8514-27b172ee301a",
   "metadata": {},
   "outputs": [
    {
     "name": "stdout",
     "output_type": "stream",
     "text": [
      "sum of multiples of 3 is  166833\n",
      "sum of multiples of 5 is  99500\n"
     ]
    }
   ],
   "source": [
    "\n",
    "sum_of_3 = 0\n",
    "sum_of_5 = 0\n",
    "for i in range(1, 1000):\n",
    "    if i % 3 == 0:\n",
    "        sum_of_3 += i\n",
    "    if i % 5 == 0:\n",
    "        sum_of_5 += i\n",
    "\n",
    "print(\"sum of multiples of 3 is \", sum_of_3)\n",
    "print(\"sum of multiples of 5 is \", sum_of_5)\n"
   ]
  },
  {
   "cell_type": "markdown",
   "id": "383be0e3-579e-41fd-ab29-8aa54b64ab64",
   "metadata": {},
   "source": [
    " ### 46. Write a program to find out big of two numbers"
   ]
  },
  {
   "cell_type": "code",
   "execution_count": 2,
   "id": "71d03083-11c7-448b-ae02-3e51d219432c",
   "metadata": {},
   "outputs": [
    {
     "name": "stdin",
     "output_type": "stream",
     "text": [
      "Enter a number : 20\n",
      "Enter a number : 30\n"
     ]
    },
    {
     "name": "stdout",
     "output_type": "stream",
     "text": [
      "Big number is  30\n"
     ]
    }
   ],
   "source": [
    "user_input = input(\"Enter a number :\")\n",
    "user_input_2 = input(\"Enter a number :\")\n",
    "user_input = float(user_input)\n",
    "user_input_2 = float(user_input_2)\n",
    "\n",
    "if user_input > user_input_2 :\n",
    "    print(\"Big number is \", int(user_input))\n",
    "else:\n",
    "    print(\"Big number is \", int(user_input_2))\n",
    "\n"
   ]
  },
  {
   "cell_type": "markdown",
   "id": "a86c2b2e-ea2a-4d71-8e74-cc6f06a6c9ae",
   "metadata": {},
   "source": [
    "### 47. Write a program to find out biggest number in the given numbers."
   ]
  },
  {
   "cell_type": "code",
   "execution_count": 6,
   "id": "f4e886c3-c23b-474b-b6b2-3ea48a3a7e84",
   "metadata": {},
   "outputs": [
    {
     "name": "stdin",
     "output_type": "stream",
     "text": [
      "Enter a Number : 125321\n"
     ]
    },
    {
     "name": "stdout",
     "output_type": "stream",
     "text": [
      "5\n"
     ]
    }
   ],
   "source": [
    "user_input = input(\"Enter a Number :\")\n",
    "user_input = list(user_input)\n",
    "big = int(user_input[0])\n",
    "for i in user_input:\n",
    "    if int(i) >= big:\n",
    "        big = int(i)\n",
    "print(big)\n"
   ]
  },
  {
   "cell_type": "markdown",
   "id": "84fc2d9f-5876-4b4b-96bc-6ed40ba43d2c",
   "metadata": {},
   "source": [
    "### 48. find out the index of  third occurrence of given substring"
   ]
  },
  {
   "cell_type": "code",
   "execution_count": 15,
   "id": "ecbe2a22-4b45-4964-8c0f-421398aec080",
   "metadata": {},
   "outputs": [
    {
     "name": "stdin",
     "output_type": "stream",
     "text": [
      "Enter a String  medi k medi l medi l\n",
      "Enter a sub string medi\n"
     ]
    },
    {
     "name": "stdout",
     "output_type": "stream",
     "text": [
      "13\n"
     ]
    }
   ],
   "source": [
    "user_input = input(\"Enter a String \")\n",
    "user_input_2 = input(\"Enter a sub string\")\n",
    "count = 0\n",
    "length = 0\n",
    "list_words = user_input.split(\" \")\n",
    "for i in range(0, len(list_words)):\n",
    "    if list_words[i] == user_input_2:\n",
    "        count += 1\n",
    "        if count == 3:\n",
    "            break\n",
    "        length += len(list_words[i])\n",
    "    else:\n",
    "        length += len(list_words[i])\n",
    "user_input = \" \".join(list_words)\n",
    "if count == 3:\n",
    "    print(length+count)\n",
    "    "
   ]
  },
  {
   "cell_type": "markdown",
   "id": "ad6ad976-994a-40a0-8a78-ee60d389ed8f",
   "metadata": {},
   "source": [
    "## 49. find out the index nth occurrence of given substring"
   ]
  },
  {
   "cell_type": "code",
   "execution_count": 29,
   "id": "1815b565-2a20-4673-804b-f766cb5b1bc4",
   "metadata": {},
   "outputs": [
    {
     "name": "stdin",
     "output_type": "stream",
     "text": [
      "Enter a String  medi medi medi\n",
      "Enter a sub string medi\n"
     ]
    },
    {
     "name": "stdout",
     "output_type": "stream",
     "text": [
      "15\n"
     ]
    }
   ],
   "source": [
    "user_input = input(\"Enter a String \")\n",
    "user_input_2 = input(\"Enter a sub string\")\n",
    "count = 0\n",
    "length = 0\n",
    "list_words = user_input.split(\" \")\n",
    "for i in range(0, len(list_words)):\n",
    "    if list_words[i] == user_input_2:\n",
    "        count += 1\n",
    "        length += len(list_words[i])\n",
    "    else:\n",
    "        length += len(list_words[i])\n",
    "user_input = \" \".join(list_words)\n",
    "\n",
    "print(length+count)"
   ]
  },
  {
   "cell_type": "markdown",
   "id": "901e5ae0-556b-4b26-8c3f-6378cbcedbc9",
   "metadata": {},
   "source": [
    "### 50. Take some single digit numbers from the user and findout min, maximum, sum, average"
   ]
  },
  {
   "cell_type": "code",
   "execution_count": 43,
   "id": "ed906b57-f6da-4005-8ecd-2b216889ac1e",
   "metadata": {},
   "outputs": [
    {
     "name": "stdin",
     "output_type": "stream",
     "text": [
      "enter a number for no of inputs :  3\n",
      " enter a number  30\n",
      " enter a number  20\n",
      " enter a number  10\n"
     ]
    },
    {
     "name": "stdout",
     "output_type": "stream",
     "text": [
      "mimimunm of a given numbers  10\n",
      "Maximum of a given numbers  30\n",
      "sum of given numbers  60\n",
      "Average of given numbers 20.0\n"
     ]
    }
   ],
   "source": [
    "n = input(\"enter a number for no of inputs : \")\n",
    "n = int(n)\n",
    "list_a = []\n",
    "for i in range(n):\n",
    "    user_input = input(\" enter a number \")\n",
    "    list_a.append(int(user_input))\n",
    "min_of = list_a[0]\n",
    "max_of = list_a[0]\n",
    "sum_of = 0\n",
    "for i in list_a:\n",
    "    sum_of += i\n",
    "    if min_of >= i:\n",
    "        min_of = i\n",
    "    if max_of  <= i:\n",
    "        max_of = i\n",
    "print(\"mimimunm of a given numbers \", min_of)\n",
    "print(\"Maximum of a given numbers \", max_of)\n",
    "print(\"sum of given numbers \", sum_of)\n",
    "print(\"Average of given numbers\", (sum_of / n))"
   ]
  },
  {
   "cell_type": "markdown",
   "id": "37167119-d4a8-403f-8216-8c618b4834a4",
   "metadata": {},
   "source": [
    "### 51. print the number in proper mathematical way.\n",
    " \tConsider that we have 6 digit numbers.\n",
    " Number format  WAP> 10 -> 000010\n",
    "\t\t100 ->  000100\n",
    "\t\t1000 ->  001000\n",
    "\t\t 2345678  ->  2345678\n",
    "\tIf the number has morethan 6 digits then print as it is."
   ]
  },
  {
   "cell_type": "code",
   "execution_count": 51,
   "id": "273f9978-4db7-402f-8aa8-273a07e970b9",
   "metadata": {},
   "outputs": [
    {
     "name": "stdin",
     "output_type": "stream",
     "text": [
      "enter a number  321\n"
     ]
    },
    {
     "name": "stdout",
     "output_type": "stream",
     "text": [
      "000321\n"
     ]
    }
   ],
   "source": [
    "\n",
    "user_input = input(\"enter a number \")\n",
    "length = len(user_input)\n",
    "if length < 7:\n",
    "    print(\"0\" * (6- length) + user_input) #  or  #  print(user_input.zfill(6))"
   ]
  },
  {
   "cell_type": "markdown",
   "id": "7e850a4d-8351-40a4-b960-df7c625f9f95",
   "metadata": {},
   "source": [
    "### 52. names  =\"emp1,emp2,emp3,emp4\" iterate through the employee names."
   ]
  },
  {
   "cell_type": "code",
   "execution_count": 52,
   "id": "4e9bd44c-59bb-4b44-a129-0d41712c9a91",
   "metadata": {},
   "outputs": [
    {
     "name": "stdin",
     "output_type": "stream",
     "text": [
      "enter emp name  123\n"
     ]
    },
    {
     "name": "stdout",
     "output_type": "stream",
     "text": [
      "emp1 123\n"
     ]
    },
    {
     "name": "stdin",
     "output_type": "stream",
     "text": [
      "enter emp name  456\n"
     ]
    },
    {
     "name": "stdout",
     "output_type": "stream",
     "text": [
      "emp2 456\n"
     ]
    },
    {
     "name": "stdin",
     "output_type": "stream",
     "text": [
      "enter emp name  789\n"
     ]
    },
    {
     "name": "stdout",
     "output_type": "stream",
     "text": [
      "emp3 789\n"
     ]
    },
    {
     "name": "stdin",
     "output_type": "stream",
     "text": [
      "enter emp name  654\n"
     ]
    },
    {
     "name": "stdout",
     "output_type": "stream",
     "text": [
      "emp4 654\n"
     ]
    }
   ],
   "source": [
    "names =\"emp1,emp2,emp3,emp4\"\n",
    "for i in names.split(\",\"):\n",
    "    print(i, input(\"enter emp name \" ))"
   ]
  },
  {
   "cell_type": "markdown",
   "id": "bcde5b7c-886a-4bc2-8bd5-802f56962fd7",
   "metadata": {},
   "source": [
    "### 53. Take actual string, source string, destination string.\n",
    "replce first nth occurrences of source string with destination string of actual string."
   ]
  },
  {
   "cell_type": "code",
   "execution_count": 66,
   "id": "f45a3a37-62e6-4576-ae3c-23e61791d40d",
   "metadata": {},
   "outputs": [
    {
     "name": "stdin",
     "output_type": "stream",
     "text": [
      "Enter a sentence  akhil m akhi m akhil m\n"
     ]
    },
    {
     "name": "stdout",
     "output_type": "stream",
     "text": [
      "['akhil', 'm', 'akhi', 'm', 'akhil', 'm']\n"
     ]
    },
    {
     "name": "stdin",
     "output_type": "stream",
     "text": [
      "enter a sub string m\n",
      "enter a occurances of numbers  2\n",
      "enter a string to change medi\n"
     ]
    },
    {
     "name": "stdout",
     "output_type": "stream",
     "text": [
      "akhil\n",
      "m\n",
      "akhi\n",
      "m\n",
      "akhil medi akhi medi akhil m\n"
     ]
    }
   ],
   "source": [
    "\n",
    "user_input = input(\"Enter a sentence \")\n",
    "list_a = user_input.split()\n",
    "print(list_a)\n",
    "source = input(\"enter a sub string\")\n",
    "n = input(\"enter a occurances of numbers \")\n",
    "n = int(n)\n",
    "destination = input(\"enter a string to change\")\n",
    "count = 0\n",
    "for i in range(0, len(list_a)):\n",
    "    print(list_a[i])\n",
    "    if list_a[i] == source :\n",
    "        list_a[i] = destination\n",
    "        count += 1\n",
    "        if count == n:\n",
    "            break\n",
    "print(\" \".join(list_a))"
   ]
  },
  {
   "cell_type": "markdown",
   "id": "da8ed6f3-64cb-4100-a082-2c07ea115f29",
   "metadata": {},
   "source": [
    "### 54. Take a two numbers from the user and do below menu driven operations\n",
    " 1. addition\n",
    " 2. multiples\n",
    " 3.division\n",
    " 4.sqrt\n",
    " 5. pow    a**b\n",
    " 6.subtraction\n",
    " After selection do the corresponding operation.\n",
    " Note: user may give int, or float numbers. You should check whether it is proper digits or not. \n",
    " I.e the user given string should be in the position to convert to float. \n",
    " Other wise show the “inproper string given” Error.\n"
   ]
  },
  {
   "cell_type": "code",
   "execution_count": 9,
   "id": "d73f956b-654f-4001-ae8f-037ecb5f66c8",
   "metadata": {},
   "outputs": [
    {
     "name": "stdin",
     "output_type": "stream",
     "text": [
      "enter a number : 2\n",
      "enter a number : 2\n"
     ]
    },
    {
     "name": "stdout",
     "output_type": "stream",
     "text": [
      "1. addition \n",
      "2. multiples \n",
      "3.division \n",
      "4.sqrt \n",
      "5. pow a**b \n",
      "6.subtraction\n"
     ]
    },
    {
     "name": "stdin",
     "output_type": "stream",
     "text": [
      "select from above options :  5\n"
     ]
    },
    {
     "name": "stdout",
     "output_type": "stream",
     "text": [
      "pow a**b  of : 4.0\n"
     ]
    }
   ],
   "source": [
    "\n",
    "user_input = input(\"enter a number :\")\n",
    "user_input = float(user_input)\n",
    "user_input_1 = input(\"enter a number :\")\n",
    "user_input_1 = float(user_input_1)\n",
    "\n",
    "print(\"1. addition \\n2. multiples \\n3.division \\n4.sqrt \\n5. pow a**b \\n6.subtraction\")\n",
    "select = input(\"select from above options : \")\n",
    "if select == \"1\":\n",
    "    print(\"addition of :\", user_input + user_input_1)\n",
    "elif select == \"2\":\n",
    "    print(\"multiples  of :\", user_input * user_input_1)\n",
    "elif select == \"3\":\n",
    "    print(\"division   of :\", user_input / user_input_1)\n",
    "elif select == \"4\":\n",
    "    print(\"sqrt of :\", user_input **2,  user_input_1**2 )\n",
    "elif select == \"5\":\n",
    "    print(\"pow a**b  of :\", user_input ** user_input_1 )\n",
    "elif select == \"6\":\n",
    "    print(\"subtraction  of :\", user_input - user_input_1)\n",
    "else:\n",
    "    print(\"selected inproper option\")\n",
    "    \n",
    "\n"
   ]
  },
  {
   "cell_type": "markdown",
   "id": "1eba5209-7bcf-455c-bf5c-6eb6d09986b9",
   "metadata": {},
   "source": [
    "### 55. Take numbers from the user and find out min, maximum, sum, average"
   ]
  },
  {
   "cell_type": "code",
   "execution_count": null,
   "id": "119b3a3c-fe04-4508-812c-0a59767b38a3",
   "metadata": {},
   "outputs": [],
   "source": [
    "\n",
    "n = input(\"enter a number for no of inputs : \")\n",
    "n = int(n)\n",
    "list_a = []\n",
    "for i in range(n):\n",
    "    user_input = input(\" enter a number \")\n",
    "    list_a.append(int(user_input))\n",
    "min_of = list_a[0]\n",
    "max_of = list_a[0]\n",
    "sum_of = 0\n",
    "for i in list_a:\n",
    "    sum_of += i\n",
    "    if min_of >= i:\n",
    "        min_of = i\n",
    "    if max_of  <= i:\n",
    "        max_of = i\n",
    "print(\"mimimunm of a given numbers \", min_of)\n",
    "print(\"Maximum of a given numbers \", max_of)\n",
    "print(\"sum of given numbers \", sum_of)\n",
    "print(\"Average of given numbers\", (sum_of / n))"
   ]
  },
  {
   "cell_type": "markdown",
   "id": "eb1faef5-864d-4adf-96a0-3ce3d4c1e38d",
   "metadata": {},
   "source": [
    "### 56. l=[1,2,3,5,7,8,9,10,11,12,13,20,22,23,24,25,26,27,20,21,22,4] \n",
    " find out how many even numbers are there and how many odd numbers are there and \n",
    " how many positive numbers are there and how many negative numbers are there and \n",
    " how many prime numbers are there and how many perfect numbers are there and \n",
    " how many Armstrong numbers are there and how many palindrome numbers are there."
   ]
  },
  {
   "cell_type": "code",
   "execution_count": 6,
   "id": "9ac81bee-66e9-4c3d-b78a-5bc40d8e2429",
   "metadata": {},
   "outputs": [
    {
     "name": "stdout",
     "output_type": "stream",
     "text": [
      "Even numbers: 11\n",
      "Odd numbers: 11\n",
      "Positive numbers: 22\n",
      "Negative numbers: 0\n",
      "Prime numbers: 7\n",
      "Perfect numbers: 0\n",
      "Armstrong numbers: 8\n",
      "Palindrome numbers: 11\n"
     ]
    }
   ],
   "source": [
    "\n",
    "ve_no = 0\n",
    "ne_no = 0\n",
    "even_no = 0\n",
    "odd_no = 0\n",
    "prime_no = 0\n",
    "perfect_no = 0\n",
    "armstrong_no = 0\n",
    "palindrome_no = 0\n",
    "\n",
    "l=[1,2,3,5,7,8,9,10,11,12,13,20,22,23,24,25,26,27,20,21,22,4]\n",
    "for i in l:\n",
    "    if i >=0:\n",
    "        ve_no += 1\n",
    "    else:\n",
    "        ne_no += 1\n",
    "    if i % 2 == 0:\n",
    "        even_no += 1\n",
    "    else:\n",
    "        odd_no += 1\n",
    "    if i <= 1:\n",
    "        prime_no += 0\n",
    "    else:\n",
    "        count = 0\n",
    "        for j in range(2, i+1):\n",
    "            if i % j == 0:\n",
    "                count += 1\n",
    "        if count == 1:\n",
    "            prime_no += 1\n",
    "    if i <= 1:\n",
    "        perfect_no += 0\n",
    "    else:\n",
    "        sum = 1\n",
    "        for j in range(2, i+1):\n",
    "            if i % j == 0:\n",
    "                sum += j\n",
    "                if i // j != j:\n",
    "                    sum += i // j\n",
    "        if sum == i:\n",
    "            perfect_no += 1\n",
    "    num_str = str(i)\n",
    "    num_digits = len(num_str)\n",
    "    sum_of_powers = 0\n",
    "    \n",
    "    for j in num_str:\n",
    "        sum_of_powers += (int(j) ** num_digits)\n",
    "\n",
    "    if sum_of_powers == i:\n",
    "        armstrong_no += 1\n",
    "    if str(i) == str(i)[::-1]:\n",
    "        palindrome_no += 1\n",
    "\n",
    "print(\"Even numbers:\", even_no)\n",
    "print(\"Odd numbers:\", odd_no)\n",
    "print(\"Positive numbers:\", ve_no)\n",
    "print(\"Negative numbers:\", ne_no)\n",
    "print(\"Prime numbers:\", prime_no)\n",
    "print(\"Perfect numbers:\", perfect_no)\n",
    "print(\"Armstrong numbers:\", armstrong_no)\n",
    "print(\"Palindrome numbers:\", palindrome_no)"
   ]
  },
  {
   "cell_type": "markdown",
   "id": "74ced379-59bc-4d28-9bc3-6a81434b3b7e",
   "metadata": {},
   "source": [
    "### 57. Take a string from the user and find out how many digits are there, \n",
    " how many special symbols are there, how many small letters are there, how many caps are there."
   ]
  },
  {
   "cell_type": "code",
   "execution_count": 10,
   "id": "fc1fed96-9d19-443b-9d9c-e314ccd9aa68",
   "metadata": {},
   "outputs": [
    {
     "name": "stdin",
     "output_type": "stream",
     "text": [
      "Enter a string :  Hello Akhil 123 @ aja %5jhfjdbhjb\n"
     ]
    },
    {
     "name": "stdout",
     "output_type": "stream",
     "text": [
      "Digits: 4\n",
      "Special symbols: 29\n",
      "Small letters: 20\n",
      "Capital letters: 2\n"
     ]
    }
   ],
   "source": [
    "\n",
    "user_input = input(\"Enter a string : \")\n",
    "digit_count = 0\n",
    "symbol_count = 0\n",
    "small_letter = 0\n",
    "captial_count = 0\n",
    "for i in user_input:\n",
    "    if (i >= \"a\" and i <= \"z\"):\n",
    "        small_letter += 1\n",
    "    if (i >= \"A\" and i <= \"Z\"):\n",
    "        captial_count += 1\n",
    "    if (i >= \"0\" and i <= \"9\"):\n",
    "        digit_count += 1\n",
    "    else:\n",
    "        symbol_count += 1\n",
    "print(\"Digits:\", digit_count)\n",
    "print(\"Special symbols:\", symbol_count)\n",
    "print(\"Small letters:\", small_letter)\n",
    "print(\"Capital letters:\", captial_count)\n"
   ]
  },
  {
   "cell_type": "markdown",
   "id": "a6cd5e6b-10a8-4cbe-a9e0-daa43d08ba25",
   "metadata": {},
   "source": [
    "### 58. Take a char from the user and find out how many number of occurrences are there in given string"
   ]
  },
  {
   "cell_type": "code",
   "execution_count": 11,
   "id": "5e4b9d84-9bea-4fb0-bc30-9e928ad72218",
   "metadata": {},
   "outputs": [
    {
     "name": "stdin",
     "output_type": "stream",
     "text": [
      "Enter a string : hdgdshjgdsshsdjdoaij jjdkadskjads\n",
      "Enter a char : h\n"
     ]
    },
    {
     "name": "stdout",
     "output_type": "stream",
     "text": [
      "no of occurances are :  3\n"
     ]
    }
   ],
   "source": [
    "\n",
    "user_input = input(\"Enter a string :\")\n",
    "user_input_1 = input(\"Enter a char :\")\n",
    "count = 0\n",
    "for i in user_input:\n",
    "    if i == user_input_1:\n",
    "        count += 1\n",
    "\n",
    "print(\"no of occurances are : \", count)"
   ]
  },
  {
   "cell_type": "markdown",
   "id": "a8b3226f-0d6a-4f3a-8aee-3d507cc3bf0b",
   "metadata": {},
   "source": [
    "### 59. Take a element from the user and find out how many times the  element occurred in given list"
   ]
  },
  {
   "cell_type": "code",
   "execution_count": 12,
   "id": "5cf78c52-6a4c-4158-aa96-c9c031f6e9d7",
   "metadata": {},
   "outputs": [
    {
     "name": "stdin",
     "output_type": "stream",
     "text": [
      "Enter a number : 2\n"
     ]
    },
    {
     "name": "stdout",
     "output_type": "stream",
     "text": [
      "no of  occurances are  6\n"
     ]
    }
   ],
   "source": [
    "\n",
    "list_a = [1,2,3,4,5,2,5,2,6,1,2,5,2,1,5,4,3,8,9,2]\n",
    "user_input = input(\"Enter a number :\")\n",
    "user_input = int(user_input)\n",
    "count = 0\n",
    "for i in list_a:\n",
    "    if i == user_input:\n",
    "        count += 1\n",
    "print(\"no of  occurances are \", count)"
   ]
  },
  {
   "cell_type": "markdown",
   "id": "d67e89f5-d3b8-4f9e-9c7a-8da63cf429a4",
   "metadata": {},
   "source": [
    "### 60. Take an element from the user and find out how many number of occurrences are there in given tuple"
   ]
  },
  {
   "cell_type": "code",
   "execution_count": 13,
   "id": "cdce1511-9996-44a2-bd45-39831ae04833",
   "metadata": {},
   "outputs": [
    {
     "name": "stdin",
     "output_type": "stream",
     "text": [
      "Enter a number : 3\n"
     ]
    },
    {
     "name": "stdout",
     "output_type": "stream",
     "text": [
      "no of  occurances are  2\n"
     ]
    }
   ],
   "source": [
    "\n",
    "list_a = (1,2,3,4,5,2,5,2,6,1,2,5,2,1,5,4,3,8,9,2)\n",
    "user_input = input(\"Enter a number :\")\n",
    "user_input = int(user_input)\n",
    "count = 0\n",
    "for i in list_a:\n",
    "    if i == user_input:\n",
    "        count += 1\n",
    "print(\"no of  occurances are \", count)"
   ]
  },
  {
   "cell_type": "markdown",
   "id": "0973a0b2-e607-4659-9fcd-ec35d1e1a8f5",
   "metadata": {},
   "source": [
    "### 61. Reverse the string without effecting the special symbols. It involves three variations. Write code for three variations.\n",
    "    Input: abc123,#$45def6%$^789$%^, output: $%^987%$^6fed54,#$321cba\n",
    "    Input:abc123,#$45def6%$^789$%^, output: 9876fe,#$d54321%$^cba$%^\n",
    "\tInput: \"123,#$456%$^789$%^\", Output: 321,#$654%$^987$%^   Only numbers has to reverse."
   ]
  },
  {
   "cell_type": "code",
   "execution_count": 1,
   "id": "2f339566-d595-4e5a-9ff7-21558e7bb59d",
   "metadata": {},
   "outputs": [
    {
     "name": "stdout",
     "output_type": "stream",
     "text": [
      "abc123,#$45def6%$^789$%^\n",
      "$%^987%$^6fed54,#$321cba\n",
      "$%^987%$^6fed54,#$321cba required output\n"
     ]
    }
   ],
   "source": [
    "\n",
    "s = \"abc123,#$45def6%$^789$%^\"\n",
    "print(s)\n",
    "string_reverse = s[::-1]\n",
    "\n",
    "res = \"\"\n",
    "sub = \"\"\n",
    "for i in string_reverse:\n",
    "    if i.isalnum():\n",
    "        res += sub + i\n",
    "        sub = \"\"\n",
    "    else:\n",
    "        sub = i + sub\n",
    "    \n",
    "\n",
    "print(res)\n",
    "\n",
    "print(\"$%^987%$^6fed54,#$321cba\", \"required output\" )"
   ]
  },
  {
   "cell_type": "code",
   "execution_count": 3,
   "id": "cbf8667d-aa37-4b73-84c6-0268d4cb9ac3",
   "metadata": {},
   "outputs": [],
   "source": [
    "# 62. Reverse the string without effecting the special symbols. It involves three variations. Write code for three variations.\n",
    "#     Input:abc123,#$45def6%$^789$%^, output: 9876fe,#$d54321%$^cba$%^\n",
    "\n",
    "s      = \"abc123,#$45def6%$^789$%^\"\n",
    "output = \"9876fe,#$d54321%$^cba$%^\"\n"
   ]
  },
  {
   "cell_type": "markdown",
   "id": "45129c21-b681-485e-837f-955be74748de",
   "metadata": {},
   "source": [
    "### 65. define a function to take person details name and age are mandatory parameters and height weight are optional parameters. If the user willing to pass any other details(like adhar, cell, pan, passport etc..) regarding him then your function should access those details."
   ]
  },
  {
   "cell_type": "code",
   "execution_count": 23,
   "id": "d68b617e-2583-46bc-a31f-de5a394f3f68",
   "metadata": {},
   "outputs": [
    {
     "name": "stdout",
     "output_type": "stream",
     "text": [
      "{'Name': 'Charlie', 'Age': 40, 'Height': None, 'Weight': 69, 'cell': '1234567890', 'passport': 'A1234567'}\n"
     ]
    }
   ],
   "source": [
    "def person_details(name, age, height=None, weight=None, **kwargs):\n",
    "    details = {\n",
    "        \"Name\": name,\n",
    "        \"Age\": age,\n",
    "        \"Height\": height,\n",
    "        \"Weight\": weight\n",
    "    }\n",
    "    for key, value in kwargs.items():\n",
    "        details[key] = value\n",
    "    return details\n",
    "print(person_details(name=\"Charlie\", age=40, weight=69, cell=\"1234567890\", passport=\"A1234567\"))"
   ]
  },
  {
   "cell_type": "markdown",
   "id": "7e38fb09-0d89-4cd7-bcb4-056ef2bd0933",
   "metadata": {},
   "source": [
    "### 65 b. write a function to check given value is even or not"
   ]
  },
  {
   "cell_type": "code",
   "execution_count": 16,
   "id": "1df5e04b-8ab7-42da-b4ef-6b8f616b684a",
   "metadata": {},
   "outputs": [
    {
     "name": "stdout",
     "output_type": "stream",
     "text": [
      "False\n",
      "True\n"
     ]
    }
   ],
   "source": [
    "def even_not(value):\n",
    "    return value%2==0\n",
    "print(even_not(21))\n",
    "print(even_not(20))"
   ]
  },
  {
   "cell_type": "markdown",
   "id": "68c83d3f-eb98-4530-9d62-f1d37c4abb49",
   "metadata": {},
   "source": [
    "### 65 c. write a function to check given value is prime or not"
   ]
  },
  {
   "cell_type": "code",
   "execution_count": 38,
   "id": "adaca7df-48f8-44bb-8f0a-04c0a42300d0",
   "metadata": {},
   "outputs": [
    {
     "name": "stdout",
     "output_type": "stream",
     "text": [
      "prime number\n",
      "not prime number\n"
     ]
    }
   ],
   "source": [
    "def is_prime(value):\n",
    "    if value <= 1:\n",
    "        return False\n",
    "    for i in range(2, int(value**0.5) + 1):\n",
    "        if value % i == 0:\n",
    "            return \"not prime number\"\n",
    "    return \"prime number\"\n",
    "print(is_prime(11))\n",
    "print(is_prime(15))"
   ]
  },
  {
   "cell_type": "markdown",
   "id": "4501412b-d28d-4090-9632-44bc967048d7",
   "metadata": {},
   "source": [
    "### 65 d. write a function to check given 2 values are divisible or not"
   ]
  },
  {
   "cell_type": "code",
   "execution_count": 76,
   "id": "22e4585e-f8a8-4e6a-927e-8de3f7d1312c",
   "metadata": {},
   "outputs": [
    {
     "name": "stdin",
     "output_type": "stream",
     "text": [
      "enter value : 6\n",
      "enter value : 2\n"
     ]
    },
    {
     "name": "stdout",
     "output_type": "stream",
     "text": [
      "True\n"
     ]
    }
   ],
   "source": [
    "def is_divisible(value1, value2):\n",
    "    if value2 == 0:\n",
    "        return \"Division by zero is not allowed.\"\n",
    "    return value1 % value2 ==0\n",
    "#print(is_divisible(126,63))\n",
    "#print(is_divisible(6,0))\n",
    "#op =is_divisible()\n",
    "value1 = float(input(\"enter value :\"))\n",
    "value2 = float(input(\"enter value :\"))\n",
    "op = is_divisible(value1, value2)\n",
    "print(op)"
   ]
  },
  {
   "cell_type": "markdown",
   "id": "813b76c3-13c5-4e08-9a1d-d6db1b467c91",
   "metadata": {},
   "source": [
    "### 67. take a string from the user and check contains only digits or not?"
   ]
  },
  {
   "cell_type": "code",
   "execution_count": 119,
   "id": "9afe4c23-c064-4342-a30b-e625aa59319f",
   "metadata": {},
   "outputs": [
    {
     "name": "stdin",
     "output_type": "stream",
     "text": [
      "enter some string:  23456\n"
     ]
    },
    {
     "name": "stdout",
     "output_type": "stream",
     "text": [
      "digitds\n"
     ]
    }
   ],
   "source": [
    "s = input('enter some string: ')\n",
    "def func(s):\n",
    "    for i in s:\n",
    "        if 48<=ord(i)>=57:\n",
    "            print(\"The string contains characters.\")\n",
    "            break\n",
    "    else:\n",
    "        print('digitds')\n",
    "func(s)"
   ]
  },
  {
   "cell_type": "markdown",
   "id": "49792665-ab5d-4f95-b1d3-cde007d1ea80",
   "metadata": {},
   "source": [
    "### 68. take a string from the user and check contains only alphabets or not?"
   ]
  },
  {
   "cell_type": "code",
   "execution_count": 5,
   "id": "09994f8f-6098-4265-84f0-b8475348145b",
   "metadata": {},
   "outputs": [
    {
     "name": "stdin",
     "output_type": "stream",
     "text": [
      "enter a string lugt98675@#$\n"
     ]
    },
    {
     "name": "stdout",
     "output_type": "stream",
     "text": [
      "sring not only cantains alphabtes \n"
     ]
    }
   ],
   "source": [
    "def chek_only_alphabets():\n",
    "    str_2=input(\"enter a string\")\n",
    "    for i in str_2:\n",
    "        \n",
    "        if(i>='a' and i<='z') and (i>='0'  and i<='9'):\n",
    "            print(\"string cantaians only alphabates\")\n",
    "            break\n",
    "    else:\n",
    "        print(\"sring not only cantains alphabtes \")\n",
    "\n",
    "chek_only_alphabets()"
   ]
  },
  {
   "cell_type": "markdown",
   "id": "5c0504b7-04cc-4089-91e6-bfefd5ff32d7",
   "metadata": {},
   "source": [
    "### 69. take a string from the user and check contains only special chars or not?"
   ]
  },
  {
   "cell_type": "code",
   "execution_count": 15,
   "id": "3e1eeb8e-6fc3-4af2-b7a9-9e4349976dd2",
   "metadata": {},
   "outputs": [
    {
     "name": "stdin",
     "output_type": "stream",
     "text": [
      "enter some string:  @#\n"
     ]
    },
    {
     "name": "stdout",
     "output_type": "stream",
     "text": [
      "string have only special characters\n"
     ]
    }
   ],
   "source": [
    "s = input('enter some string: ')\n",
    "def func(s):\n",
    "    for i in s:\n",
    "        if(i>='a' and i<='z') or (i>='0'  and i<='9') or (i>= 'A' and  i<='Z'):\n",
    "            print (\"string doesnt have special characters\")\n",
    "            break\n",
    "    else:\n",
    "        print(\"string have only special characters\")\n",
    "func(s)"
   ]
  },
  {
   "cell_type": "markdown",
   "id": "8ee9781c-a97d-4141-abd2-edaa873645d5",
   "metadata": {},
   "source": [
    "### 70. take a string from the user and check contains only capital letters or not? "
   ]
  },
  {
   "cell_type": "code",
   "execution_count": 39,
   "id": "04522222-e7f0-40b4-9d95-92aed4c24a24",
   "metadata": {},
   "outputs": [
    {
     "name": "stdin",
     "output_type": "stream",
     "text": [
      "Enter some string:  Gugv b87\n"
     ]
    },
    {
     "name": "stdout",
     "output_type": "stream",
     "text": [
      "String has capital letters\n"
     ]
    }
   ],
   "source": [
    "s = input('Enter some string: ')\n",
    "def func(s):\n",
    "    for i in s:\n",
    "        if 'A' <= i <= 'Z':\n",
    "            print(\"String has capital letters\")\n",
    "            break\n",
    "    else:\n",
    "        print(\"String doesn't have capital letters\")\n",
    "func(s)"
   ]
  },
  {
   "cell_type": "markdown",
   "id": "3916bd1f-178f-42da-a2f6-73a7ecad3d77",
   "metadata": {},
   "source": [
    "### 71. take a string from the user and check if it contains only small letters or not?"
   ]
  },
  {
   "cell_type": "code",
   "execution_count": 37,
   "id": "c0dee45c-15b1-47ff-861f-9c6251e46eae",
   "metadata": {},
   "outputs": [
    {
     "name": "stdin",
     "output_type": "stream",
     "text": [
      "enter some string:  lihj9876t\n"
     ]
    },
    {
     "name": "stdout",
     "output_type": "stream",
     "text": [
      "string has small letters\n"
     ]
    }
   ],
   "source": [
    "s = input('enter some string: ')\n",
    "def func(s):\n",
    "    for i in s:\n",
    "        if 'a' <= i <= 'z':\n",
    "            print (\"string has small letters\")\n",
    "            break\n",
    "    else:\n",
    "        print(\"string doesn't have small letters\")\n",
    "func(s)"
   ]
  },
  {
   "cell_type": "markdown",
   "id": "315cc064-c9ae-4a12-ad3f-36109d19e495",
   "metadata": {},
   "source": [
    "### 72. WAP to replace last n occurrence. "
   ]
  },
  {
   "cell_type": "code",
   "execution_count": 44,
   "id": "3d8bf97f-d946-4659-bfc1-3dd4fd135fc3",
   "metadata": {},
   "outputs": [
    {
     "name": "stdout",
     "output_type": "stream",
     "text": [
      "Result: apple banana apple orange grape banana grape\n"
     ]
    }
   ],
   "source": [
    "def replace_last_n_occurrences(text, old, new, n):\n",
    "    \n",
    "    parts = text.rsplit(old, n)\n",
    "    \n",
    "    return new.join(parts)\n",
    "\n",
    "text = \"apple banana apple orange apple banana apple\"\n",
    "old = \"apple\"\n",
    "new = \"grape\"\n",
    "n = 2\n",
    "\n",
    "result = replace_last_n_occurrences(text, old, new, n)\n",
    "print(\"Result:\", result)\n"
   ]
  },
  {
   "cell_type": "markdown",
   "id": "3352baf8-9e13-41f2-8d8c-f53dc1a4b803",
   "metadata": {},
   "source": [
    "### 73. WAP to check given string contains numbers or not. it should consider float numbers also. "
   ]
  },
  {
   "cell_type": "code",
   "execution_count": 9,
   "id": "93d2eedb-330e-41e9-bb74-64d344dbed94",
   "metadata": {},
   "outputs": [
    {
     "name": "stdin",
     "output_type": "stream",
     "text": [
      "Enter a string:  lkm\n"
     ]
    },
    {
     "name": "stdout",
     "output_type": "stream",
     "text": [
      "The string does not contain any numbers.\n"
     ]
    }
   ],
   "source": [
    "def contains_numbers(input_string):\n",
    "    # Iterate through each character in the string\n",
    "    for char in input_string:\n",
    "        # Check if the character is a digit or a decimal point\n",
    "        if char.isdigit() or char == '.':\n",
    "            return True\n",
    "    return False\n",
    "\n",
    "# Test the function\n",
    "input_string = input(\"Enter a string: \")\n",
    "if contains_numbers(input_string):\n",
    "    print(\"The string contains numbers.\")\n",
    "else:\n",
    "    print(\"The string does not contain any numbers.\")\n"
   ]
  },
  {
   "cell_type": "markdown",
   "id": "678a5804-f644-4aef-9c6c-d64593acb191",
   "metadata": {},
   "source": [
    "### 74 Convert the total string in to lower case. \n",
    "\n",
    "### Convert the total string in to upper case. "
   ]
  },
  {
   "cell_type": "code",
   "execution_count": 13,
   "id": "da6ad83e-399e-4516-b20c-2fd60a278eb2",
   "metadata": {},
   "outputs": [
    {
     "name": "stdin",
     "output_type": "stream",
     "text": [
      "Enter a string:  pl\n"
     ]
    },
    {
     "name": "stdout",
     "output_type": "stream",
     "text": [
      "Lowercase: pl\n",
      "Uppercase: PL\n"
     ]
    }
   ],
   "source": [
    "def convert_case(input_string):\n",
    "    lower_case = input_string.lower()  \n",
    "    upper_case = input_string.upper()  \n",
    "    return lower_case, upper_case\n",
    "\n",
    "input_string = input(\"Enter a string: \")\n",
    "lower_case, upper_case = convert_case(input_string)\n",
    "\n",
    "print(f\"Lowercase: {lower_case}\")\n",
    "print(f\"Uppercase: {upper_case}\")"
   ]
  },
  {
   "cell_type": "markdown",
   "id": "217a29f2-0ce3-42ea-98df-4331cb6eb230",
   "metadata": {},
   "source": [
    "### 75. Convert every word start letter into caps. Some how title not working if it contains numbers and special symbols in the word "
   ]
  },
  {
   "cell_type": "code",
   "execution_count": 16,
   "id": "5fa0f88d-ba76-46ee-849e-fef3083e2d00",
   "metadata": {},
   "outputs": [
    {
     "name": "stdin",
     "output_type": "stream",
     "text": [
      "Enter a string:  sebg asouhfcn \n"
     ]
    },
    {
     "name": "stdout",
     "output_type": "stream",
     "text": [
      "Result: Sebg Asouhfcn\n"
     ]
    }
   ],
   "source": [
    "def capitalize_words(input_string):\n",
    "    result = []\n",
    "    words = input_string.split()  \n",
    "    for word in words:\n",
    "        if word: \n",
    "            new_word = word[0].upper() + word[1:]  \n",
    "            result.append(new_word)\n",
    "        else:\n",
    "            result.append(word) \n",
    "    return ' '.join(result)\n",
    "input_string = input(\"Enter a string: \")\n",
    "output_string = capitalize_words(input_string)\n",
    "print(f\"Result: {output_string}\")"
   ]
  },
  {
   "cell_type": "markdown",
   "id": "e4a98e5b-93e4-4d6c-8a87-77fab3052eb6",
   "metadata": {},
   "source": [
    " ### 76.replace last two occurrences of given source string with destination string "
   ]
  },
  {
   "cell_type": "code",
   "execution_count": 11,
   "id": "ce31de3f-359e-415a-99d6-120f7c7ec302",
   "metadata": {},
   "outputs": [
    {
     "name": "stdout",
     "output_type": "stream",
     "text": [
      "This is a test. This test is just a test.\n"
     ]
    }
   ],
   "source": []
  },
  {
   "cell_type": "markdown",
   "id": "2d40df7a-2bb5-4a21-bec7-48f7a390dbf7",
   "metadata": {},
   "source": [
    "### 77.write a program to check given substring is there in actual string or not? (search should be case insensitive) \n",
    "\n",
    "example: act=\"python is a pure object oriented programing language\" "
   ]
  },
  {
   "cell_type": "code",
   "execution_count": 21,
   "id": "6cf38a90-414e-436a-ab9f-bc9adc1d4610",
   "metadata": {},
   "outputs": [
    {
     "name": "stdin",
     "output_type": "stream",
     "text": [
      "Enter the substring to search:  A\n"
     ]
    },
    {
     "name": "stdout",
     "output_type": "stream",
     "text": [
      "The substring is found.\n"
     ]
    }
   ],
   "source": [
    "def check_substring(case_string, substring):\n",
    "    if substring.lower() in case_string.lower():\n",
    "        return True\n",
    "    else:\n",
    "        return False\n",
    "act = \"python is a pure object oriented programming language\"\n",
    "substring = input(\"Enter the substring to search: \")\n",
    "\n",
    "if check_substring(act, substring):\n",
    "    print(\"The substring is found.\")\n",
    "else:\n",
    "    print(\"The substring is not found.\")"
   ]
  },
  {
   "cell_type": "markdown",
   "id": "7eb839d2-814a-434f-917f-84ee7aeca44a",
   "metadata": {},
   "source": [
    "### 78.check whether “pure” is there in act or not. \n",
    "\n",
    "Note: Use in operator "
   ]
  },
  {
   "cell_type": "code",
   "execution_count": 9,
   "id": "a550ddea-935a-45c2-b283-f0009ce67b4d",
   "metadata": {},
   "outputs": [
    {
     "name": "stdout",
     "output_type": "stream",
     "text": [
      "\"pure\" is not found in the string.\n"
     ]
    }
   ],
   "source": [
    "def check_pure_in_string(input_string):\n",
    "    # Check if the word \"pure\" is in the string using the 'in' operator\n",
    "    if \"RAMU \" in input_string:\n",
    "        return True\n",
    "    else:\n",
    "        return False\n",
    "\n",
    "# Test the function\n",
    "act = \"python is a pure object oriented programming language\"\n",
    "\n",
    "if check_pure_in_string(act):\n",
    "    print('\"pure\" is found in the string.')\n",
    "else:\n",
    "    print('\"pure\" is not found in the string.')\n"
   ]
  },
  {
   "cell_type": "markdown",
   "id": "11b51a2e-7103-448e-a1e3-67e2e700d679",
   "metadata": {},
   "source": [
    "### 79. l=[10,20,30,[40,50,60],70,[80,90,20]]. Convert this list as single dimensional list "
   ]
  },
  {
   "cell_type": "code",
   "execution_count": 11,
   "id": "e0000547-9709-46e8-bb52-b005c1d91bd9",
   "metadata": {},
   "outputs": [
    {
     "name": "stdout",
     "output_type": "stream",
     "text": [
      "[10, 20, 30, 40, 50, 60, 70, 80, 90, 20]\n"
     ]
    }
   ],
   "source": [
    "def dimensional_list(lst):\n",
    "  flat_lst = []\n",
    "  for item in lst:\n",
    "    if type(item) == list :\n",
    "      flat_lst.extend(dimensional_list(item))\n",
    "    else:\n",
    "      flat_lst.append(item)\n",
    "  return flat_lst\n",
    " \n",
    "l = [10, 20, 30, [40, 50, 60], 70, [80, 90, 20]]\n",
    "flat_l = dimensional_list(l)\n",
    "print(flat_l)"
   ]
  },
  {
   "cell_type": "markdown",
   "id": "168ed5f0-d87e-419f-ac37-df2255d156ad",
   "metadata": {},
   "source": [
    "### 80. input: \"Google\" print count of each character "
   ]
  },
  {
   "cell_type": "code",
   "execution_count": 6,
   "id": "7ebfd168-ae46-43d2-b0a9-2a19d02b1805",
   "metadata": {},
   "outputs": [
    {
     "name": "stdout",
     "output_type": "stream",
     "text": [
      "{'e': 1, 'l': 1, 'g': 1, 'G': 1, 'o': 2}\n"
     ]
    }
   ],
   "source": [
    "input_string = \"Google\"\n",
    "char_count = {char: input_string.count(char) for char in set(input_string)}\n",
    "print(char_count)\n"
   ]
  },
  {
   "cell_type": "markdown",
   "id": "053866d0-0739-45de-a4b7-33a769441e13",
   "metadata": {},
   "source": [
    "### 81. Convert n dimensional list to single dimensional list. "
   ]
  },
  {
   "cell_type": "code",
   "execution_count": 5,
   "id": "f08961e4-9391-4403-b745-4ca073520677",
   "metadata": {},
   "outputs": [
    {
     "name": "stdout",
     "output_type": "stream",
     "text": [
      "[1, 2, 3, 4, 5, 6, 7]\n"
     ]
    }
   ],
   "source": [
    "def dime(lst):\n",
    "    flat_list = []\n",
    "    for i in lst:\n",
    "        if isinstance(i, list):\n",
    "            flat_list.extend(dime(i)) \n",
    "        else:\n",
    "            flat_list.append(i)\n",
    "    return flat_list\n",
    "nested_list = [[1, 2, [3, 4]], [5, 6], 7]\n",
    "flat_list = dime(nested_list)\n",
    "print(flat_list)\n"
   ]
  },
  {
   "cell_type": "markdown",
   "id": "00b0b008-6441-432b-9751-7dd7e423b876",
   "metadata": {},
   "source": [
    "### 82. l=[1,2,3] just make it as a string. "
   ]
  },
  {
   "cell_type": "code",
   "execution_count": 15,
   "id": "849f849a-d7d1-45e5-b939-3ccec0d9865b",
   "metadata": {},
   "outputs": [
    {
     "name": "stdout",
     "output_type": "stream",
     "text": [
      "123\n"
     ]
    }
   ],
   "source": [
    "l = [1, 2, 3]\n",
    "string = \"\"\n",
    "for i in l:\n",
    "    string += str(i) \n",
    "print(string)\n"
   ]
  },
  {
   "cell_type": "markdown",
   "id": "161f4361-7803-45e6-af2e-23dc0f81712e",
   "metadata": {},
   "source": [
    "### 83. l=[1,2,3,[4,5,6],7,[8,9,10]] for single dimensional list "
   ]
  },
  {
   "cell_type": "code",
   "execution_count": null,
   "id": "a1d7923d-5cf8-4a3c-823d-640b948843ca",
   "metadata": {},
   "outputs": [],
   "source": []
  },
  {
   "cell_type": "markdown",
   "id": "225d94f3-e09b-45d1-b98b-8151ef6929e1",
   "metadata": {},
   "source": [
    "### 84.l=['a','A','b','B','d','D','c','C'] WAP to find out case insensitive count and 85. case insensitive search for an element."
   ]
  },
  {
   "cell_type": "code",
   "execution_count": 15,
   "id": "5a0c1f31-4bff-4ac2-a58d-d2729f7ef7c1",
   "metadata": {},
   "outputs": [
    {
     "name": "stdout",
     "output_type": "stream",
     "text": [
      "2\n",
      "2\n"
     ]
    }
   ],
   "source": [
    "l = ['a', 'A', 'b', 'B', 'd', 'D', 'c', 'C']\n",
    "\n",
    "def case_insensitive_count(lst, element):\n",
    "    return sum(1 for x in lst if x.lower() == element.lower())\n",
    "\n",
    "def case_insensitive_search(lst, element):\n",
    "    for i, x in enumerate(lst):\n",
    "        if x.lower() == element.lower():\n",
    "            return i\n",
    "    return -1\n",
    "\n",
    "print(case_insensitive_count(l, 'a')) \n",
    "print(case_insensitive_search(l, 'b'))\n"
   ]
  },
  {
   "cell_type": "markdown",
   "id": "f61ab277-fe4e-42c1-ad11-d1e992bf1961",
   "metadata": {},
   "source": [
    "### 86. l=['a','A','b','B','d','D','c','C']  sort the list properly "
   ]
  },
  {
   "cell_type": "code",
   "execution_count": 18,
   "id": "fd36d1b5-c1d6-4a72-b79e-91c8b81a9eef",
   "metadata": {},
   "outputs": [
    {
     "name": "stdout",
     "output_type": "stream",
     "text": [
      "['a', 'A', 'b', 'B', 'c', 'C', 'd', 'D']\n"
     ]
    }
   ],
   "source": [
    "l = ['a', 'A', 'b', 'B', 'd', 'D', 'c', 'C']\n",
    "\n",
    "res = sorted(l, key=str.lower)\n",
    "\n",
    "print(res)\n"
   ]
  },
  {
   "cell_type": "markdown",
   "id": "987926e1-b441-418b-92e1-9db49c8793fb",
   "metadata": {},
   "source": [
    "### 87. find the start position of the largest block of repeated characters in a given string "
   ]
  },
  {
   "cell_type": "code",
   "execution_count": 21,
   "id": "9f83da89-e115-4b7f-af49-63e762675f66",
   "metadata": {},
   "outputs": [
    {
     "name": "stdout",
     "output_type": "stream",
     "text": [
      "10\n"
     ]
    }
   ],
   "source": [
    "def find_largest_repeated_block(s):\n",
    "    max_start, max_len, current_start, current_len = 0, 0, 0, 1\n",
    "    for i in range(1, len(s)):\n",
    "        if s[i] == s[i - 1]: current_len += 1\n",
    "        else:\n",
    "            if current_len > max_len: max_start, max_len = current_start, current_len\n",
    "            current_start, current_len = i, 1\n",
    "    return current_start if current_len > max_len else max_start\n",
    "\n",
    "# Example usage:\n",
    "s = \"aaabbbccccddddd\"\n",
    "print(find_largest_repeated_block(s))\n"
   ]
  },
  {
   "cell_type": "markdown",
   "id": "a66737f8-8b83-4bf5-bf0e-c7e151600cb5",
   "metadata": {},
   "source": [
    "### 88. WAP to find union and intersection of lists. "
   ]
  },
  {
   "cell_type": "code",
   "execution_count": 24,
   "id": "71aedd9b-b82f-41bc-b4d2-9fed71131fd4",
   "metadata": {},
   "outputs": [
    {
     "name": "stdout",
     "output_type": "stream",
     "text": [
      "Union: [1, 2, 3, 4, 5, 6]\n",
      "Intersection: [3, 4]\n"
     ]
    }
   ],
   "source": [
    "def union(lst1, lst2):\n",
    "    return list(set(lst1) | set(lst2))\n",
    "\n",
    "def intersection(lst1, lst2):\n",
    "    return list(set(lst1) & set(lst2))\n",
    "\n",
    "list1 = [1, 2, 3, 4]\n",
    "list2 = [3, 4, 5, 6]\n",
    "\n",
    "print(\"Union:\", union(list1, list2))\n",
    "print(\"Intersection:\", intersection(list1, list2))\n"
   ]
  },
  {
   "cell_type": "markdown",
   "id": "6e4ae60c-bbaa-4344-a187-4779f6f3e5fa",
   "metadata": {},
   "source": [
    "### 89. input: fun(5) output: [1,2,3,4,3,2,1] "
   ]
  },
  {
   "cell_type": "code",
   "execution_count": 37,
   "id": "ab10e0ca-71ee-4975-9410-9f3c32cfab98",
   "metadata": {},
   "outputs": [
    {
     "name": "stdout",
     "output_type": "stream",
     "text": [
      "[1, 2, 3, 4, 2, 1]\n"
     ]
    }
   ],
   "source": [
    "def fun(n):\n",
    "    return list(range(1, n)) + list(range(n - 2, 0, -1))\n",
    "\n",
    "print(fun(5))\n"
   ]
  },
  {
   "cell_type": "markdown",
   "id": "ee8a4ef7-32e0-47a0-8148-4869ea812d4b",
   "metadata": {},
   "source": [
    "### 90. input fun('abc') output: [[],][a],[b],[c],[a,b],[b,c],[c,a],[a,b,c]] "
   ]
  },
  {
   "cell_type": "code",
   "execution_count": null,
   "id": "07261d59-026c-45b9-8421-ebf75459e678",
   "metadata": {},
   "outputs": [],
   "source": []
  },
  {
   "cell_type": "markdown",
   "id": "4dea1410-6a6e-4c11-92b1-04fbcdc07c84",
   "metadata": {},
   "source": [
    "### 91. Remove duplicates from the list: a=[1,2,3,2,3,4,1,,3,4] "
   ]
  },
  {
   "cell_type": "code",
   "execution_count": 55,
   "id": "8fc19479-bd75-43b2-b512-138f345ae56f",
   "metadata": {},
   "outputs": [
    {
     "name": "stdout",
     "output_type": "stream",
     "text": [
      "[1, 2, 3, 4]\n"
     ]
    }
   ],
   "source": [
    "a = [1, 2, 3, 2, 3, 4, 1, 3, 4]\n",
    "\n",
    "result = []\n",
    "for item in a:\n",
    "    if item not in result:\n",
    "        result.append(item)\n",
    "\n",
    "print(result)\n"
   ]
  },
  {
   "cell_type": "markdown",
   "id": "f18ee14a-9eeb-4514-8b67-b89cc74fa1aa",
   "metadata": {},
   "source": [
    "### 92. l=['1','2','3'] get the sum of the list "
   ]
  },
  {
   "cell_type": "code",
   "execution_count": 70,
   "id": "cfe1418f-f4fa-4bd9-af27-c81325915763",
   "metadata": {},
   "outputs": [
    {
     "name": "stdout",
     "output_type": "stream",
     "text": [
      "15\n"
     ]
    }
   ],
   "source": [
    "l = ['1','2','3','4','5']\n",
    "count = 0\n",
    "for i in l:\n",
    "    k = int(i)\n",
    "    count += k\n",
    "print(count)\n"
   ]
  },
  {
   "cell_type": "code",
   "execution_count": 76,
   "id": "0d381b18-55f1-40e8-97a3-497a7fa7e9c2",
   "metadata": {},
   "outputs": [
    {
     "name": "stdout",
     "output_type": "stream",
     "text": [
      "15\n"
     ]
    }
   ],
   "source": [
    "def sum_lst(l):\n",
    "    count = 0\n",
    "    for i in l:\n",
    "        k = int(i)\n",
    "        count += k\n",
    "    return count\n",
    "res = sum_lst(l)\n",
    "print(res)"
   ]
  },
  {
   "cell_type": "markdown",
   "id": "0ef13107-4eeb-4c80-88ad-df230be608f5",
   "metadata": {},
   "source": [
    "### 93. l1=[1,2,3,4] l2=[5,6,7,8] sum of two lists "
   ]
  },
  {
   "cell_type": "code",
   "execution_count": 99,
   "id": "5ef69057-c3fd-47c6-8139-dc5adad04ab2",
   "metadata": {},
   "outputs": [
    {
     "name": "stdout",
     "output_type": "stream",
     "text": [
      "36\n"
     ]
    }
   ],
   "source": [
    "l1 =[1,2,3,4]\n",
    "l2=[5,6,7,8]\n",
    "\n",
    "count = 0\n",
    "for i in l1+l2:\n",
    "    count += i\n",
    "print(count)"
   ]
  },
  {
   "cell_type": "code",
   "execution_count": 103,
   "id": "1b917f85-2239-4db6-9621-cac3dd4ead41",
   "metadata": {},
   "outputs": [
    {
     "name": "stdout",
     "output_type": "stream",
     "text": [
      "36\n"
     ]
    }
   ],
   "source": [
    "def sum_2lst(a,b):\n",
    "    count = 0\n",
    "    for i in a +b:\n",
    "        count += i\n",
    "    return count\n",
    "res = sum_2lst(l1,l2)\n",
    "print(res)"
   ]
  },
  {
   "cell_type": "markdown",
   "id": "0b5761e8-d036-4a73-bd7b-5aeb13f8070c",
   "metadata": {},
   "source": [
    "### 94. Find third max value of element in a list with soring and without sorting a list. "
   ]
  },
  {
   "cell_type": "code",
   "execution_count": 118,
   "id": "2e5d8ed0-f0c0-4585-ae26-ef802a0e415c",
   "metadata": {},
   "outputs": [
    {
     "name": "stdout",
     "output_type": "stream",
     "text": [
      "8\n"
     ]
    }
   ],
   "source": [
    "# l3 = [5,9,2,7,6,1,0,19,8]\n",
    "# l3.sort()\n",
    "\n",
    "# print(l3[-3])\n",
    "\n",
    "l = [5,9,2,7,6,1,0,19,8]\n",
    "first = l[0]\n",
    "second = 0\n",
    "third = 0\n",
    "\n",
    "for i in l:\n",
    "    if i > first:\n",
    "        third = second\n",
    "        second = first\n",
    "        first = i\n",
    "    elif i > second and i != first:\n",
    "        third = second\n",
    "        second = i\n",
    "    elif i > third and i != second:\n",
    "        third = i\n",
    "\n",
    "print(third)\n",
    "\n",
    "        "
   ]
  },
  {
   "cell_type": "code",
   "execution_count": null,
   "id": "f7ab4a0b-987e-417f-9240-ad4b17af4526",
   "metadata": {},
   "outputs": [],
   "source": []
  },
  {
   "cell_type": "code",
   "execution_count": null,
   "id": "72061a80-a4e3-4eab-8797-cd1248e1e83a",
   "metadata": {},
   "outputs": [],
   "source": []
  },
  {
   "cell_type": "code",
   "execution_count": null,
   "id": "c229e4ce-251c-4326-ad17-f2dd8058feb9",
   "metadata": {},
   "outputs": [],
   "source": []
  }
 ],
 "metadata": {
  "kernelspec": {
   "display_name": "Python 3 (ipykernel)",
   "language": "python",
   "name": "python3"
  },
  "language_info": {
   "codemirror_mode": {
    "name": "ipython",
    "version": 3
   },
   "file_extension": ".py",
   "mimetype": "text/x-python",
   "name": "python",
   "nbconvert_exporter": "python",
   "pygments_lexer": "ipython3",
   "version": "3.12.4"
  }
 },
 "nbformat": 4,
 "nbformat_minor": 5
}
