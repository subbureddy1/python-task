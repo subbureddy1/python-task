{
 "cells": [
  {
   "cell_type": "code",
   "execution_count": null,
   "id": "8de963fe-1533-46ac-af55-911426457c00",
   "metadata": {},
   "outputs": [],
   "source": [
    "def add(x,y):\n",
    "    return x+y\n",
    "def add_dec(f):\n",
    "    def inner(x,y):\n",
    "        print(f\"x={x},y={y}\")\n",
    "        r1 = f(x,y)\n",
    "        print(\"r1=\",r1)\n",
    "    return inner\n",
    "    res = add_dec(add)\n",
    "    r2=res()"
   ]
  },
  {
   "cell_type": "code",
   "execution_count": null,
   "id": "e0de0de7-7c6d-43bc-8144-001975c90f19",
   "metadata": {},
   "outputs": [],
   "source": [
    "class emp:\n",
    "    company= 'aja'\n",
    "    defa"
   ]
  },
  {
   "cell_type": "code",
   "execution_count": 3,
   "id": "a8f08ce1-8c91-4dad-889b-49d444d9f740",
   "metadata": {},
   "outputs": [],
   "source": [
    "import sqlite3\n",
    "\n",
    "class DB:\n",
    "    def __init__(self, db_name=\"database.db\"):\n",
    "        self.connection = sqlite3.connect(db_name)\n",
    "        self.cursor = self.connection.cursor()\n",
    "\n",
    "    def create_table(self):\n",
    "        try:\n",
    "            self.cursor.execute(\"\"\"\n",
    "            CREATE TABLE IF NOT EXISTS users (\n",
    "                id INTEGER PRIMARY KEY AUTOINCREMENT,\n",
    "                name TEXT NOT NULL,\n",
    "                age INTEGER,\n",
    "                email TEXT UNIQUE\n",
    "            )\n",
    "            \"\"\")\n",
    "            self.connection.commit()\n",
    "            print(\"Table created successfully.\")\n",
    "        except sqlite3.Error as e:\n",
    "            print(f\"Error creating table: {e}\")\n",
    "\n",
    "    def insert_value(self, name, age, email):\n",
    "        try:\n",
    "            self.cursor.execute(\"INSERT INTO users (name, age, email) VALUES (?, ?, ?)\", (name, age, email))\n",
    "            self.connection.commit()\n",
    "            print(\"Record inserted successfully.\")\n",
    "        except sqlite3.Error as e:\n",
    "            print(f\"Error inserting value: {e}\")\n",
    "\n",
    "    def update_value(self, user_id, name=None, age=None, email=None):\n",
    "        try:\n",
    "            updates = []\n",
    "            values = []\n",
    "            if name:\n",
    "                updates.append(\"name = ?\")\n",
    "                values.append(name)\n",
    "            if age:\n",
    "                updates.append(\"age = ?\")\n",
    "                values.append(age)\n",
    "            if email:\n",
    "                updates.append(\"email = ?\")\n",
    "                values.append(email)\n",
    "            \n",
    "            values.append(user_id)\n",
    "            self.cursor.execute(f\"UPDATE users SET {', '.join(updates)} WHERE id = ?\", values)\n",
    "            self.connection.commit()\n",
    "            print(\"Record updated successfully.\")\n",
    "        except sqlite3.Error as e:\n",
    "            print(f\"Error updating value: {e}\")\n",
    "\n",
    "    def delete_value(self, user_id):\n",
    "        try:\n",
    "            self.cursor.execute(\"DELETE FROM users WHERE id = ?\", (user_id,))\n",
    "            self.connection.commit()\n",
    "            print(\"Record deleted successfully.\")\n",
    "        except sqlite3.Error as e:\n",
    "            print(f\"Error deleting value: {e}\")\n",
    "\n",
    "    def close(self):\n",
    "        self.connection.close()\n"
   ]
  },
  {
   "cell_type": "code",
   "execution_count": null,
   "id": "f3fcbe6a-2342-464c-8263-bf86d1cafb7c",
   "metadata": {},
   "outputs": [],
   "source": []
  }
 ],
 "metadata": {
  "kernelspec": {
   "display_name": "Python 3 (ipykernel)",
   "language": "python",
   "name": "python3"
  },
  "language_info": {
   "codemirror_mode": {
    "name": "ipython",
    "version": 3
   },
   "file_extension": ".py",
   "mimetype": "text/x-python",
   "name": "python",
   "nbconvert_exporter": "python",
   "pygments_lexer": "ipython3",
   "version": "3.12.4"
  }
 },
 "nbformat": 4,
 "nbformat_minor": 5
}
