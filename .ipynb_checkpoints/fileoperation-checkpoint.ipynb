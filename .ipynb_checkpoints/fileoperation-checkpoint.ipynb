{
 "cells": [
  {
   "cell_type": "code",
   "execution_count": 29,
   "id": "da883f14-759a-4a1a-a500-805fcc2e4a08",
   "metadata": {},
   "outputs": [
    {
     "name": "stdout",
     "output_type": "stream",
     "text": [
      "Requirement already satisfied: faker in c:\\users\\ramu1\\anaconda3\\lib\\site-packages (30.6.0)\n",
      "Requirement already satisfied: python-dateutil>=2.4 in c:\\users\\ramu1\\anaconda3\\lib\\site-packages (from faker) (2.9.0.post0)\n",
      "Requirement already satisfied: typing-extensions in c:\\users\\ramu1\\anaconda3\\lib\\site-packages (from faker) (4.11.0)\n",
      "Requirement already satisfied: six>=1.5 in c:\\users\\ramu1\\anaconda3\\lib\\site-packages (from python-dateutil>=2.4->faker) (1.16.0)\n"
     ]
    }
   ],
   "source": [
    "!pip install faker\n"
   ]
  },
  {
   "cell_type": "code",
   "execution_count": 79,
   "id": "55772798-4e42-4c5a-9f84-0ea32cd0db1a",
   "metadata": {},
   "outputs": [
    {
     "name": "stdout",
     "output_type": "stream",
     "text": [
      "Successfully connected to the database\n",
      "Error: (1050, \"Table 'faker_data' already exists\")\n"
     ]
    }
   ],
   "source": [
    "import pymysql\n",
    "from faker import Faker\n",
    "from random import randint\n",
    "\n",
    "fake = Faker()\n",
    "\n",
    "try:\n",
    "    mydb = pymysql.connect(\n",
    "        host=\"localhost\",\n",
    "        user=\"root\",\n",
    "        password=\"root\",\n",
    "        database = 'test',\n",
    "        port = 3306\n",
    "    )\n",
    "    print(\"Successfully connected to the database\")\n",
    "\n",
    "    cur = mydb.cursor()\n",
    "\n",
    "    cur.execute('create table faker_data(id int auto_increment primary key , name varchar(30), age int, salary float)')\n",
    "   \n",
    "    for i in range(29):\n",
    "        cur.execute('INSERT INTO faker_data (name, age,salary) VALUES (%s, %s, %s)', \n",
    "                 (fake.name(),randint(23, 60),randint(10000,50000)))\n",
    "\n",
    "\n",
    "    \n",
    "    cur.fetchall()\n",
    "    mydb.commit()  \n",
    "\n",
    "    cur.close()\n",
    "    mydb.close()\n",
    "    \n",
    "except pymysql.MySQLError as e:\n",
    "    print(f\"Error: {e}\")\n",
    "\n",
    "# mydb.close()\n",
    "\n"
   ]
  },
  {
   "cell_type": "code",
   "execution_count": 13,
   "id": "9fdd1ec1-0b1d-4d90-817e-cf593ac53e38",
   "metadata": {},
   "outputs": [
    {
     "name": "stdout",
     "output_type": "stream",
     "text": [
      "Collecting faker\n",
      "  Downloading Faker-30.6.0-py3-none-any.whl.metadata (15 kB)\n",
      "Requirement already satisfied: python-dateutil>=2.4 in c:\\users\\ramu1\\anaconda3\\lib\\site-packages (from faker) (2.9.0.post0)\n",
      "Requirement already satisfied: typing-extensions in c:\\users\\ramu1\\anaconda3\\lib\\site-packages (from faker) (4.11.0)\n",
      "Requirement already satisfied: six>=1.5 in c:\\users\\ramu1\\anaconda3\\lib\\site-packages (from python-dateutil>=2.4->faker) (1.16.0)\n",
      "Downloading Faker-30.6.0-py3-none-any.whl (1.8 MB)\n",
      "   ---------------------------------------- 0.0/1.8 MB ? eta -:--:--\n",
      "   ---------------------------------------- 0.0/1.8 MB ? eta -:--:--\n",
      "    --------------------------------------- 0.0/1.8 MB 435.7 kB/s eta 0:00:05\n",
      "   ---------- ----------------------------- 0.5/1.8 MB 4.3 MB/s eta 0:00:01\n",
      "   -------------------------------- ------- 1.5/1.8 MB 9.6 MB/s eta 0:00:01\n",
      "   ---------------------------------------- 1.8/1.8 MB 9.0 MB/s eta 0:00:00\n",
      "Installing collected packages: faker\n",
      "Successfully installed faker-30.6.0\n"
     ]
    }
   ],
   "source": [
    "!pip install faker"
   ]
  },
  {
   "cell_type": "code",
   "execution_count": 15,
   "id": "0815f8fc-e7e4-47d9-a6b3-39ee0c93199a",
   "metadata": {},
   "outputs": [],
   "source": [
    "import faker"
   ]
  },
  {
   "cell_type": "code",
   "execution_count": null,
   "id": "4196271a-cbb1-48d8-a2bb-5a4180402e30",
   "metadata": {},
   "outputs": [],
   "source": [
    "\n",
    "from faker import Faker\n",
    "from random import randint\n",
    "import pymysql\n",
    "import mysql.connector\n",
    "fake=Faker()\n",
    "\n",
    "mydb = mysql.connector.connect(\n",
    "        host=\"localhost\",\n",
    "        user=\"root\",\n",
    "        password=\"root\",\n",
    "        database = 'test',\n",
    "        port = 3306\n",
    "    )\n",
    "\n",
    "cur = mydb.cursor()\n",
    "\n",
    "for i in range(10):\n",
    "    cur.execute('insert into faker(name, age, salary) values(fake.name(), randint(23,60),randint(4000000,9000000)')\n",
    "\n",
    "cur.fetchall()\n",
    "cur.close()\n",
    "print('done')\n",
    "# f=open(\"BIGFILES.txt\",\"w\")\n",
    "# print(fake)\n",
    "# for i in range(10):\n",
    "#     print(fake.name(), randint(23,60),randint(4000000,9000000))\n",
    "# for i in range(1000000):\n",
    "#     row = f\"{fake.name()},{randint(23,60)},{randint(4000000,9000000)}\\n\"\n",
    "#     f.write(row)\n",
    "#     f.flush()\n",
    "# f.close()"
   ]
  },
  {
   "cell_type": "code",
   "execution_count": null,
   "id": "1ca33989-728e-4bda-8636-97649ed2128e",
   "metadata": {},
   "outputs": [],
   "source": [
    "from faker import Faker\n",
    "from random import randint\n",
    "import mysql.connector\n",
    "\n",
    "fake = Faker()\n",
    "\n",
    "mydb = mysql.connector.connect(\n",
    "    host=\"localhost\",\n",
    "    user=\"root\",\n",
    "    password=\"root\",\n",
    "    database='test',\n",
    "    port=3306\n",
    ")\n",
    "\n",
    "cur = mydb.cursor()\n",
    "\n",
    "for i in range(10):\n",
    "    cur.execute('INSERT INTO faker (name, age, salary) VALUES (%s, %s, %s)', \n",
    "                (fake.name(), randint(23, 60), randint(4000000, 9000000)))\n",
    "\n",
    "mydb.commit()  # Commit the changes\n",
    "cur.close()\n",
    "mydb.close()\n",
    "print('done')\n"
   ]
  },
  {
   "cell_type": "code",
   "execution_count": null,
   "id": "d8f359bd-1d78-4cac-812a-4edadd974758",
   "metadata": {},
   "outputs": [],
   "source": []
  }
 ],
 "metadata": {
  "kernelspec": {
   "display_name": "Python 3 (ipykernel)",
   "language": "python",
   "name": "python3"
  },
  "language_info": {
   "codemirror_mode": {
    "name": "ipython",
    "version": 3
   },
   "file_extension": ".py",
   "mimetype": "text/x-python",
   "name": "python",
   "nbconvert_exporter": "python",
   "pygments_lexer": "ipython3",
   "version": "3.12.4"
  }
 },
 "nbformat": 4,
 "nbformat_minor": 5
}
